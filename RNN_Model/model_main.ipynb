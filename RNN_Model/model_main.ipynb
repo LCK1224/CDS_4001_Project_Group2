{
 "cells": [
  {
   "cell_type": "markdown",
   "id": "399ee071",
   "metadata": {},
   "source": [
    "## Get the Data"
   ]
  },
  {
   "cell_type": "code",
   "execution_count": 1,
   "id": "31f5b91d",
   "metadata": {},
   "outputs": [
    {
     "data": {
      "text/html": [
       "<div>\n",
       "<style scoped>\n",
       "    .dataframe tbody tr th:only-of-type {\n",
       "        vertical-align: middle;\n",
       "    }\n",
       "\n",
       "    .dataframe tbody tr th {\n",
       "        vertical-align: top;\n",
       "    }\n",
       "\n",
       "    .dataframe thead th {\n",
       "        text-align: right;\n",
       "    }\n",
       "</style>\n",
       "<table border=\"1\" class=\"dataframe\">\n",
       "  <thead>\n",
       "    <tr style=\"text-align: right;\">\n",
       "      <th></th>\n",
       "      <th>Mean Temperature</th>\n",
       "      <th>Mean Pressure</th>\n",
       "      <th>Rainfall</th>\n",
       "      <th>Relative Humidity</th>\n",
       "      <th>Mean Cloud</th>\n",
       "      <th>Evaporation</th>\n",
       "      <th>Global Solar Radiation</th>\n",
       "      <th>Max UV</th>\n",
       "      <th>Wind Speed</th>\n",
       "      <th>Mean UV</th>\n",
       "      <th>...</th>\n",
       "      <th>RSP</th>\n",
       "      <th>O3</th>\n",
       "      <th>FSP</th>\n",
       "      <th>Intensity</th>\n",
       "      <th>Signal</th>\n",
       "      <th>Duration(hr min)</th>\n",
       "      <th>day_sin</th>\n",
       "      <th>day_cos</th>\n",
       "      <th>wind_sin</th>\n",
       "      <th>wind_cos</th>\n",
       "    </tr>\n",
       "  </thead>\n",
       "  <tbody>\n",
       "    <tr>\n",
       "      <th>0</th>\n",
       "      <td>15.4</td>\n",
       "      <td>1025.1</td>\n",
       "      <td>0.00</td>\n",
       "      <td>68.0</td>\n",
       "      <td>57.0</td>\n",
       "      <td>3.4</td>\n",
       "      <td>18.11</td>\n",
       "      <td>10.072187</td>\n",
       "      <td>6.730814</td>\n",
       "      <td>4.592663</td>\n",
       "      <td>...</td>\n",
       "      <td>43.0</td>\n",
       "      <td>0.0</td>\n",
       "      <td>31.0</td>\n",
       "      <td>0.0</td>\n",
       "      <td>0.0</td>\n",
       "      <td>0.0</td>\n",
       "      <td>0.999991</td>\n",
       "      <td>0.004304</td>\n",
       "      <td>0.173648</td>\n",
       "      <td>0.984808</td>\n",
       "    </tr>\n",
       "    <tr>\n",
       "      <th>1</th>\n",
       "      <td>16.6</td>\n",
       "      <td>1025.8</td>\n",
       "      <td>0.00</td>\n",
       "      <td>69.0</td>\n",
       "      <td>79.0</td>\n",
       "      <td>3.1</td>\n",
       "      <td>12.94</td>\n",
       "      <td>9.279723</td>\n",
       "      <td>8.470005</td>\n",
       "      <td>3.780165</td>\n",
       "      <td>...</td>\n",
       "      <td>57.0</td>\n",
       "      <td>0.0</td>\n",
       "      <td>37.0</td>\n",
       "      <td>0.0</td>\n",
       "      <td>0.0</td>\n",
       "      <td>0.0</td>\n",
       "      <td>0.999917</td>\n",
       "      <td>-0.012910</td>\n",
       "      <td>0.173648</td>\n",
       "      <td>0.984808</td>\n",
       "    </tr>\n",
       "    <tr>\n",
       "      <th>2</th>\n",
       "      <td>17.5</td>\n",
       "      <td>1023.0</td>\n",
       "      <td>0.00</td>\n",
       "      <td>69.0</td>\n",
       "      <td>53.0</td>\n",
       "      <td>4.0</td>\n",
       "      <td>20.32</td>\n",
       "      <td>10.851292</td>\n",
       "      <td>6.246643</td>\n",
       "      <td>5.183114</td>\n",
       "      <td>...</td>\n",
       "      <td>51.0</td>\n",
       "      <td>0.0</td>\n",
       "      <td>37.0</td>\n",
       "      <td>0.0</td>\n",
       "      <td>0.0</td>\n",
       "      <td>0.0</td>\n",
       "      <td>0.999546</td>\n",
       "      <td>-0.030120</td>\n",
       "      <td>0.173648</td>\n",
       "      <td>0.984808</td>\n",
       "    </tr>\n",
       "    <tr>\n",
       "      <th>3</th>\n",
       "      <td>18.5</td>\n",
       "      <td>1018.7</td>\n",
       "      <td>0.00</td>\n",
       "      <td>78.0</td>\n",
       "      <td>89.0</td>\n",
       "      <td>2.8</td>\n",
       "      <td>12.21</td>\n",
       "      <td>11.371977</td>\n",
       "      <td>10.663324</td>\n",
       "      <td>4.197858</td>\n",
       "      <td>...</td>\n",
       "      <td>53.0</td>\n",
       "      <td>-0.0</td>\n",
       "      <td>33.0</td>\n",
       "      <td>0.0</td>\n",
       "      <td>0.0</td>\n",
       "      <td>0.0</td>\n",
       "      <td>0.998880</td>\n",
       "      <td>-0.047321</td>\n",
       "      <td>0.342020</td>\n",
       "      <td>0.939693</td>\n",
       "    </tr>\n",
       "    <tr>\n",
       "      <th>4</th>\n",
       "      <td>19.7</td>\n",
       "      <td>1014.7</td>\n",
       "      <td>0.05</td>\n",
       "      <td>85.0</td>\n",
       "      <td>90.0</td>\n",
       "      <td>1.6</td>\n",
       "      <td>11.50</td>\n",
       "      <td>10.239657</td>\n",
       "      <td>11.126056</td>\n",
       "      <td>3.814848</td>\n",
       "      <td>...</td>\n",
       "      <td>54.0</td>\n",
       "      <td>-0.0</td>\n",
       "      <td>33.0</td>\n",
       "      <td>0.0</td>\n",
       "      <td>0.0</td>\n",
       "      <td>0.0</td>\n",
       "      <td>0.997917</td>\n",
       "      <td>-0.064508</td>\n",
       "      <td>0.500000</td>\n",
       "      <td>0.866025</td>\n",
       "    </tr>\n",
       "    <tr>\n",
       "      <th>...</th>\n",
       "      <td>...</td>\n",
       "      <td>...</td>\n",
       "      <td>...</td>\n",
       "      <td>...</td>\n",
       "      <td>...</td>\n",
       "      <td>...</td>\n",
       "      <td>...</td>\n",
       "      <td>...</td>\n",
       "      <td>...</td>\n",
       "      <td>...</td>\n",
       "      <td>...</td>\n",
       "      <td>...</td>\n",
       "      <td>...</td>\n",
       "      <td>...</td>\n",
       "      <td>...</td>\n",
       "      <td>...</td>\n",
       "      <td>...</td>\n",
       "      <td>...</td>\n",
       "      <td>...</td>\n",
       "      <td>...</td>\n",
       "      <td>...</td>\n",
       "    </tr>\n",
       "    <tr>\n",
       "      <th>12157</th>\n",
       "      <td>27.3</td>\n",
       "      <td>1009.3</td>\n",
       "      <td>0.05</td>\n",
       "      <td>73.0</td>\n",
       "      <td>77.0</td>\n",
       "      <td>3.1</td>\n",
       "      <td>9.52</td>\n",
       "      <td>4.000000</td>\n",
       "      <td>12.200000</td>\n",
       "      <td>2.000000</td>\n",
       "      <td>...</td>\n",
       "      <td>24.0</td>\n",
       "      <td>65.0</td>\n",
       "      <td>18.0</td>\n",
       "      <td>0.0</td>\n",
       "      <td>0.0</td>\n",
       "      <td>0.0</td>\n",
       "      <td>-0.891981</td>\n",
       "      <td>0.452072</td>\n",
       "      <td>0.984808</td>\n",
       "      <td>-0.173648</td>\n",
       "    </tr>\n",
       "    <tr>\n",
       "      <th>12158</th>\n",
       "      <td>25.8</td>\n",
       "      <td>1010.1</td>\n",
       "      <td>0.05</td>\n",
       "      <td>67.0</td>\n",
       "      <td>83.0</td>\n",
       "      <td>3.0</td>\n",
       "      <td>6.97</td>\n",
       "      <td>4.000000</td>\n",
       "      <td>9.700000</td>\n",
       "      <td>2.000000</td>\n",
       "      <td>...</td>\n",
       "      <td>16.0</td>\n",
       "      <td>28.0</td>\n",
       "      <td>11.0</td>\n",
       "      <td>0.0</td>\n",
       "      <td>0.0</td>\n",
       "      <td>0.0</td>\n",
       "      <td>-0.884068</td>\n",
       "      <td>0.467359</td>\n",
       "      <td>0.500000</td>\n",
       "      <td>0.866025</td>\n",
       "    </tr>\n",
       "    <tr>\n",
       "      <th>12159</th>\n",
       "      <td>25.3</td>\n",
       "      <td>1011.1</td>\n",
       "      <td>0.05</td>\n",
       "      <td>69.0</td>\n",
       "      <td>86.0</td>\n",
       "      <td>3.0</td>\n",
       "      <td>9.41</td>\n",
       "      <td>6.000000</td>\n",
       "      <td>8.400000</td>\n",
       "      <td>2.000000</td>\n",
       "      <td>...</td>\n",
       "      <td>19.0</td>\n",
       "      <td>31.0</td>\n",
       "      <td>14.0</td>\n",
       "      <td>0.0</td>\n",
       "      <td>0.0</td>\n",
       "      <td>0.0</td>\n",
       "      <td>-0.875892</td>\n",
       "      <td>0.482508</td>\n",
       "      <td>0.500000</td>\n",
       "      <td>0.866025</td>\n",
       "    </tr>\n",
       "    <tr>\n",
       "      <th>12160</th>\n",
       "      <td>26.2</td>\n",
       "      <td>1010.3</td>\n",
       "      <td>0.00</td>\n",
       "      <td>64.0</td>\n",
       "      <td>70.0</td>\n",
       "      <td>5.0</td>\n",
       "      <td>18.57</td>\n",
       "      <td>7.000000</td>\n",
       "      <td>8.300000</td>\n",
       "      <td>3.000000</td>\n",
       "      <td>...</td>\n",
       "      <td>28.0</td>\n",
       "      <td>36.0</td>\n",
       "      <td>20.0</td>\n",
       "      <td>0.0</td>\n",
       "      <td>0.0</td>\n",
       "      <td>0.0</td>\n",
       "      <td>-0.867456</td>\n",
       "      <td>0.497513</td>\n",
       "      <td>0.500000</td>\n",
       "      <td>0.866025</td>\n",
       "    </tr>\n",
       "    <tr>\n",
       "      <th>12161</th>\n",
       "      <td>27.1</td>\n",
       "      <td>1006.0</td>\n",
       "      <td>0.00</td>\n",
       "      <td>52.0</td>\n",
       "      <td>41.0</td>\n",
       "      <td>5.1</td>\n",
       "      <td>19.34</td>\n",
       "      <td>7.000000</td>\n",
       "      <td>10.000000</td>\n",
       "      <td>3.000000</td>\n",
       "      <td>...</td>\n",
       "      <td>29.0</td>\n",
       "      <td>44.0</td>\n",
       "      <td>21.0</td>\n",
       "      <td>0.0</td>\n",
       "      <td>0.0</td>\n",
       "      <td>0.0</td>\n",
       "      <td>-0.858764</td>\n",
       "      <td>0.512371</td>\n",
       "      <td>-0.939693</td>\n",
       "      <td>0.342020</td>\n",
       "    </tr>\n",
       "  </tbody>\n",
       "</table>\n",
       "<p>12162 rows × 25 columns</p>\n",
       "</div>"
      ],
      "text/plain": [
       "       Mean Temperature  Mean Pressure  Rainfall  Relative Humidity  \\\n",
       "0                  15.4         1025.1      0.00               68.0   \n",
       "1                  16.6         1025.8      0.00               69.0   \n",
       "2                  17.5         1023.0      0.00               69.0   \n",
       "3                  18.5         1018.7      0.00               78.0   \n",
       "4                  19.7         1014.7      0.05               85.0   \n",
       "...                 ...            ...       ...                ...   \n",
       "12157              27.3         1009.3      0.05               73.0   \n",
       "12158              25.8         1010.1      0.05               67.0   \n",
       "12159              25.3         1011.1      0.05               69.0   \n",
       "12160              26.2         1010.3      0.00               64.0   \n",
       "12161              27.1         1006.0      0.00               52.0   \n",
       "\n",
       "       Mean Cloud  Evaporation  Global Solar Radiation     Max UV  Wind Speed  \\\n",
       "0            57.0          3.4                   18.11  10.072187    6.730814   \n",
       "1            79.0          3.1                   12.94   9.279723    8.470005   \n",
       "2            53.0          4.0                   20.32  10.851292    6.246643   \n",
       "3            89.0          2.8                   12.21  11.371977   10.663324   \n",
       "4            90.0          1.6                   11.50  10.239657   11.126056   \n",
       "...           ...          ...                     ...        ...         ...   \n",
       "12157        77.0          3.1                    9.52   4.000000   12.200000   \n",
       "12158        83.0          3.0                    6.97   4.000000    9.700000   \n",
       "12159        86.0          3.0                    9.41   6.000000    8.400000   \n",
       "12160        70.0          5.0                   18.57   7.000000    8.300000   \n",
       "12161        41.0          5.1                   19.34   7.000000   10.000000   \n",
       "\n",
       "        Mean UV  ...   RSP    O3   FSP  Intensity  Signal  Duration(hr min)  \\\n",
       "0      4.592663  ...  43.0   0.0  31.0        0.0     0.0               0.0   \n",
       "1      3.780165  ...  57.0   0.0  37.0        0.0     0.0               0.0   \n",
       "2      5.183114  ...  51.0   0.0  37.0        0.0     0.0               0.0   \n",
       "3      4.197858  ...  53.0  -0.0  33.0        0.0     0.0               0.0   \n",
       "4      3.814848  ...  54.0  -0.0  33.0        0.0     0.0               0.0   \n",
       "...         ...  ...   ...   ...   ...        ...     ...               ...   \n",
       "12157  2.000000  ...  24.0  65.0  18.0        0.0     0.0               0.0   \n",
       "12158  2.000000  ...  16.0  28.0  11.0        0.0     0.0               0.0   \n",
       "12159  2.000000  ...  19.0  31.0  14.0        0.0     0.0               0.0   \n",
       "12160  3.000000  ...  28.0  36.0  20.0        0.0     0.0               0.0   \n",
       "12161  3.000000  ...  29.0  44.0  21.0        0.0     0.0               0.0   \n",
       "\n",
       "        day_sin   day_cos  wind_sin  wind_cos  \n",
       "0      0.999991  0.004304  0.173648  0.984808  \n",
       "1      0.999917 -0.012910  0.173648  0.984808  \n",
       "2      0.999546 -0.030120  0.173648  0.984808  \n",
       "3      0.998880 -0.047321  0.342020  0.939693  \n",
       "4      0.997917 -0.064508  0.500000  0.866025  \n",
       "...         ...       ...       ...       ...  \n",
       "12157 -0.891981  0.452072  0.984808 -0.173648  \n",
       "12158 -0.884068  0.467359  0.500000  0.866025  \n",
       "12159 -0.875892  0.482508  0.500000  0.866025  \n",
       "12160 -0.867456  0.497513  0.500000  0.866025  \n",
       "12161 -0.858764  0.512371 -0.939693  0.342020  \n",
       "\n",
       "[12162 rows x 25 columns]"
      ]
     },
     "execution_count": 1,
     "metadata": {},
     "output_type": "execute_result"
    }
   ],
   "source": [
    "import pandas as pd\n",
    "\n",
    "df = pd.read_csv(\"../Data/cleaned_dataset.csv\")\n",
    "df"
   ]
  },
  {
   "cell_type": "markdown",
   "id": "0d61e8ff",
   "metadata": {},
   "source": [
    "## Environment Setup"
   ]
  },
  {
   "cell_type": "code",
   "execution_count": 2,
   "id": "6ab02aa1",
   "metadata": {},
   "outputs": [
    {
     "name": "stdout",
     "output_type": "stream",
     "text": [
      "Using device: cuda\n"
     ]
    }
   ],
   "source": [
    "\n",
    "## RNN\n",
    "\n",
    "import numpy as np\n",
    "import matplotlib.pyplot as plt\n",
    "import torch\n",
    "import torch.nn as nn\n",
    "import torch.optim as optim\n",
    "from sklearn.preprocessing import MinMaxScaler\n",
    "from sklearn.model_selection import train_test_split\n",
    "from sklearn.metrics import mean_squared_error, mean_absolute_error\n",
    "import math\n",
    "import random\n",
    "import warnings\n",
    "from torch.utils.data import DataLoader\n",
    "from tqdm import tqdm\n",
    "warnings.filterwarnings(\"ignore\")\n",
    "\n",
    "# Set random seed for reproducibility\n",
    "torch.manual_seed(42)\n",
    "np.random.seed(42)\n",
    "random.seed(42)\n",
    "\n",
    "# Check if GPU is available and set device accordingly\n",
    "device = torch.device(\"cuda\" if torch.cuda.is_available() else \"cpu\")\n",
    "print(f\"Using device: {device}\")"
   ]
  },
  {
   "cell_type": "markdown",
   "id": "8f26f2c3",
   "metadata": {},
   "source": [
    "## Data processing"
   ]
  },
  {
   "cell_type": "code",
   "execution_count": 3,
   "id": "2a34c5e6",
   "metadata": {},
   "outputs": [],
   "source": [
    "target_cols = \"Mean Temperature\"\n",
    "feautures_cols = [col for col in df.columns if col != target_cols]\n",
    "\n",
    "target = df[target_cols].values\n",
    "feature = df[feautures_cols].values\n",
    "\n",
    "scaler_features = MinMaxScaler()\n",
    "scaler_target = MinMaxScaler()\n",
    "\n",
    "\n",
    "target_scaled = scaler_target.fit_transform(target.reshape(-1, 1))\n",
    "features_scaled = scaler_features.fit_transform(feature)\n",
    "\n",
    "combined_features = np.concatenate([features_scaled, target_scaled], axis=1)"
   ]
  },
  {
   "cell_type": "code",
   "execution_count": 4,
   "id": "cd184aae",
   "metadata": {},
   "outputs": [],
   "source": [
    "sequence_length = 30\n",
    "def create_dataset(data, target, seq_length=1):\n",
    "    X, y = [], []\n",
    "    for i in range(len(data) - seq_length):\n",
    "        X.append(data[i:(i + seq_length)])\n",
    "        y.append(target[i + seq_length])\n",
    "    return np.array(X), np.array(y)\n",
    "\n",
    "X, y = create_dataset(combined_features, target_scaled, sequence_length)\n",
    "X = torch.tensor(X, dtype=torch.float32).to(device)\n",
    "y = torch.tensor(y, dtype=torch.float32).to(device)\n",
    "\n",
    "X_train, X_test, y_train, y_test = train_test_split(X, y, test_size=0.2, random_state=42, shuffle=False)\n",
    "X_train, X_val, y_train, y_val = train_test_split(X_train, y_train, test_size=0.2, random_state=42, shuffle=False)"
   ]
  },
  {
   "cell_type": "code",
   "execution_count": 5,
   "id": "0cc0de57",
   "metadata": {},
   "outputs": [],
   "source": [
    "class CustomDataset(torch.utils.data.Dataset):\n",
    "    def __init__(self, features, targets):\n",
    "        self.features = features\n",
    "        self.targets = targets\n",
    "\n",
    "    def __len__(self):\n",
    "        return len(self.features)\n",
    "\n",
    "    def __getitem__(self, idx):\n",
    "        return self.features[idx], self.targets[idx]\n",
    "\n",
    "train_dataset = CustomDataset(X_train, y_train)\n",
    "val_dataset = CustomDataset(X_val, y_val)\n",
    "test_dataset = CustomDataset(X_test, y_test)\n",
    "\n",
    "train_loader = DataLoader(train_dataset, batch_size=32, shuffle=True)\n",
    "val_loader = DataLoader(val_dataset, batch_size=32, shuffle=False)\n",
    "test_loader = DataLoader(test_dataset, batch_size=32, shuffle=False)"
   ]
  },
  {
   "cell_type": "markdown",
   "id": "180e77b1",
   "metadata": {},
   "source": [
    "## Model"
   ]
  },
  {
   "cell_type": "code",
   "execution_count": null,
   "id": "18c05caf",
   "metadata": {},
   "outputs": [],
   "source": [
    "class EnhancedRNNModel(nn.Module):\n",
    "    def __init__(self, input_size, hidden_size, output_size, num_layers=2):\n",
    "        super(EnhancedRNNModel, self).__init__()\n",
    "\n",
    "        # LSTM instead of RNN\n",
    "        self.rnn = nn.RNN(\n",
    "            input_size=input_size,\n",
    "            hidden_size=hidden_size,\n",
    "            num_layers=num_layers,\n",
    "            batch_first=True,\n",
    "        )\n",
    "\n",
    "        self.fc = nn.Linear(hidden_size, output_size)\n",
    "\n",
    "    def forward(self, x):\n",
    "        out, _ = self.rnn(x)\n",
    "        out = out[:, -1, :]\n",
    "        out = self.fc(out)\n",
    "        return out"
   ]
  },
  {
   "cell_type": "code",
   "execution_count": 7,
   "id": "3699168b",
   "metadata": {},
   "outputs": [],
   "source": [
    "def train_model(model, train_loader, val_loader, criterion, optimizer, num_epochs=10, patience=5, device='cpu'):\n",
    "    train_losses = []\n",
    "    val_losses = []\n",
    "    best_val_loss = float('inf')  # Track best validation loss\n",
    "    patience_counter = 0  # Count epochs without improvement\n",
    "\n",
    "    # Wrap the epoch loop with tqdm for a progress bar\n",
    "    epoch_bar = tqdm(range(num_epochs), desc=\"Training Progress\", unit=\"epoch\")\n",
    "    for epoch in epoch_bar:\n",
    "        model.train()\n",
    "        running_loss = 0.0\n",
    "        for features, targets in train_loader:\n",
    "            features, targets = features.to(device), targets.to(device)\n",
    "            optimizer.zero_grad()\n",
    "            outputs = model(features)\n",
    "            loss = criterion(outputs, targets)\n",
    "            loss.backward()\n",
    "            optimizer.step()\n",
    "            running_loss += loss.item()\n",
    "\n",
    "        train_loss = running_loss / len(train_loader)\n",
    "        train_losses.append(train_loss)\n",
    "\n",
    "        model.eval()\n",
    "        val_running_loss = 0.0\n",
    "        with torch.no_grad():\n",
    "            for features, targets in val_loader:\n",
    "                features, targets = features.to(device), targets.to(device)\n",
    "                outputs = model(features)\n",
    "                loss = criterion(outputs, targets)\n",
    "                val_running_loss += loss.item()\n",
    "\n",
    "        val_loss = val_running_loss / len(val_loader)\n",
    "        val_losses.append(val_loss)\n",
    "\n",
    "        # Update epoch progress bar with current losses\n",
    "        epoch_bar.set_postfix({\"Train Loss\": f\"{train_loss:.4f}\", \"Val Loss\": f\"{val_loss:.4f}\"})\n",
    "\n",
    "        # Early stopping check\n",
    "        if val_loss < best_val_loss:\n",
    "            best_val_loss = val_loss\n",
    "            patience_counter = 0  # Reset counter if validation loss improves\n",
    "            # Save the best model\n",
    "            torch.save(model.state_dict(), 'best_lstm_model.pth')\n",
    "        else:\n",
    "            patience_counter += 1\n",
    "            if patience_counter >= patience:\n",
    "                epoch_bar.write(f\"Early stopping triggered after {epoch+1} epochs (no improvement for {patience} epochs).\")\n",
    "                # Load the best model state before exiting\n",
    "                model.load_state_dict(torch.load('best_lstm_model.pth'))\n",
    "                break\n",
    "\n",
    "    # Plot training and validation loss\n",
    "    plt.plot(train_losses, label='Training Loss')\n",
    "    plt.plot(val_losses, label='Validation Loss')\n",
    "    plt.title('RNN Model Loss')\n",
    "    plt.xlabel('Epoch')\n",
    "    plt.ylabel('Loss')\n",
    "    plt.legend()\n",
    "\n",
    "    return train_losses, val_losses"
   ]
  },
  {
   "cell_type": "code",
   "execution_count": 8,
   "id": "9a79160e",
   "metadata": {},
   "outputs": [],
   "source": [
    "def evaluate_model(model, test_loader, scaler_target, device='cpu'):\n",
    "    # Ensure model is on the correct device\n",
    "    model.to(device)\n",
    "    model.eval()\n",
    "    predictions = []\n",
    "    actuals = []\n",
    "\n",
    "    # Collect predictions and actuals\n",
    "    with torch.no_grad():\n",
    "        for features, targets in test_loader:\n",
    "            features, targets = features.to(device), targets.to(device)\n",
    "            outputs = model(features)\n",
    "            predictions.append(outputs.cpu().numpy())\n",
    "            actuals.append(targets.cpu().numpy())\n",
    "\n",
    "    # Concatenate\n",
    "    predictions = np.concatenate(predictions, axis=0)\n",
    "    actuals = np.concatenate(actuals, axis=0)\n",
    "\n",
    "    # Debugging: Print first 5 scaled predictions\n",
    "    print(\"First 5 scaled predictions:\", predictions[:5].flatten())\n",
    "\n",
    "    # Inverse transform\n",
    "    predictions = scaler_target.inverse_transform(predictions)\n",
    "    actuals = scaler_target.inverse_transform(actuals)\n",
    "\n",
    "    # Debugging: Print first 5 inverse-transformed predictions\n",
    "    print(\"First 5 inverse-transformed predictions:\", predictions[:5].flatten())\n",
    "\n",
    "    return predictions, actuals"
   ]
  },
  {
   "cell_type": "code",
   "execution_count": 9,
   "id": "f3875c6c",
   "metadata": {},
   "outputs": [],
   "source": [
    "import os\n",
    "\n",
    "def plot_performance(train_losses, val_losses, predictions, actuals, title = 'LSTM Model Performance'):\n",
    "    plt.figure(figsize=(12, 10))\n",
    "\n",
    "    plt.subplot(3, 1, 1)\n",
    "    plt.plot(train_losses, label='Training Loss')\n",
    "    plt.plot(val_losses, label='Validation Loss')\n",
    "    plt.title('Loss Curves')\n",
    "    plt.xlabel('Epochs')\n",
    "    plt.ylabel('Loss')\n",
    "    plt.legend()\n",
    "\n",
    "    plt.subplot(3, 1, 2)\n",
    "    plt.plot(actuals, label='Actual', color='blue')\n",
    "    plt.plot(predictions, label='Predicted', color='red')\n",
    "    plt.title('LSTM Model Predictions vs Actual')\n",
    "    plt.xlabel('Time Step')\n",
    "    plt.ylabel('Mean Temperature')\n",
    "    plt.legend()\n",
    "\n",
    "    plt.subplot(3, 1, 3)\n",
    "    plt.plot(actuals[-100:], label='Actual', color='blue')\n",
    "    plt.plot(predictions[-100:], label='Predicted', color='red')\n",
    "    plt.title('Zoomed-in LSTM Model Predictions vs Actual')\n",
    "    plt.xlabel('Time Step')\n",
    "    plt.ylabel('Mean Temperature')\n",
    "    plt.legend()\n",
    "\n",
    "    plt.suptitle(title)\n",
    "\n",
    "    path = 'results/'\n",
    "    if not os.path.exists(path):\n",
    "        os.makedirs(path)\n",
    "\n",
    "    plt.savefig(path + title.replace(\" \", \"_\") + '.png')\n",
    "    plt.close()\n"
   ]
  },
  {
   "cell_type": "code",
   "execution_count": 10,
   "id": "94bd4ef7",
   "metadata": {},
   "outputs": [],
   "source": [
    "def calculate_metrics(predictions, actuals):\n",
    "    mse = mean_squared_error(actuals, predictions)\n",
    "    rmse = math.sqrt(mse)\n",
    "    mae = mean_absolute_error(actuals, predictions)\n",
    "\n",
    "    print(f\"RMSE: {rmse:.4f}\")\n",
    "    print(f\"MAE: {mae:.4f}\")\n",
    "\n",
    "    return rmse, mae"
   ]
  },
  {
   "cell_type": "markdown",
   "id": "f2b77e1b",
   "metadata": {},
   "source": [
    "## Check the best parameter"
   ]
  },
  {
   "cell_type": "code",
   "execution_count": 11,
   "id": "9feaa752",
   "metadata": {},
   "outputs": [
    {
     "name": "stdout",
     "output_type": "stream",
     "text": [
      "Training with Seq: 10, Hidden: 32, Layers: 1, LR: 0.001\n"
     ]
    },
    {
     "name": "stderr",
     "output_type": "stream",
     "text": [
      "Training Progress:  40%|████      | 40/100 [00:18<00:28,  2.11epoch/s, Train Loss=0.0019, Val Loss=0.0021]\n"
     ]
    },
    {
     "name": "stdout",
     "output_type": "stream",
     "text": [
      "Early stopping triggered after 41 epochs (no improvement for 10 epochs).\n",
      "First 5 scaled predictions: [0.47540733 0.51958656 0.3120417  0.4293196  0.46442673]\n",
      "First 5 inverse-transformed predictions: [17.973701 19.188631 13.481147 16.706287 17.671734]\n",
      "RMSE: 1.2408\n",
      "MAE: 0.9735\n",
      "RMSE: 1.2408404453877357, MAE: 0.973509669303894\n",
      "--------------------------------------------------\n",
      "Training with Seq: 10, Hidden: 32, Layers: 2, LR: 0.001\n"
     ]
    },
    {
     "name": "stderr",
     "output_type": "stream",
     "text": [
      "Training Progress:  22%|██▏       | 22/100 [00:11<00:40,  1.94epoch/s, Train Loss=0.0020, Val Loss=0.0030]\n"
     ]
    },
    {
     "name": "stdout",
     "output_type": "stream",
     "text": [
      "Early stopping triggered after 23 epochs (no improvement for 10 epochs).\n",
      "First 5 scaled predictions: [0.46942872 0.5228743  0.29767913 0.42557788 0.4814271 ]\n",
      "First 5 inverse-transformed predictions: [17.80929  19.279043 13.086176 16.603392 18.139244]\n",
      "RMSE: 1.3079\n",
      "MAE: 1.0481\n",
      "RMSE: 1.307852737372908, MAE: 1.0480624437332153\n",
      "--------------------------------------------------\n",
      "Training with Seq: 10, Hidden: 32, Layers: 3, LR: 0.001\n"
     ]
    },
    {
     "name": "stderr",
     "output_type": "stream",
     "text": [
      "Training Progress:  46%|████▌     | 46/100 [00:25<00:29,  1.83epoch/s, Train Loss=0.0018, Val Loss=0.0026]\n"
     ]
    },
    {
     "name": "stdout",
     "output_type": "stream",
     "text": [
      "Early stopping triggered after 47 epochs (no improvement for 10 epochs).\n",
      "First 5 scaled predictions: [0.47245103 0.5387258  0.2860859  0.4461155  0.4591577 ]\n",
      "First 5 inverse-transformed predictions: [17.892403 19.71496  12.767363 17.168177 17.526836]\n",
      "RMSE: 1.1543\n",
      "MAE: 0.8788\n",
      "RMSE: 1.1543063245667302, MAE: 0.8787696957588196\n",
      "--------------------------------------------------\n",
      "Training with Seq: 10, Hidden: 64, Layers: 1, LR: 0.001\n"
     ]
    },
    {
     "name": "stderr",
     "output_type": "stream",
     "text": [
      "Training Progress:  38%|███▊      | 38/100 [00:17<00:28,  2.15epoch/s, Train Loss=0.0020, Val Loss=0.0025]\n"
     ]
    },
    {
     "name": "stdout",
     "output_type": "stream",
     "text": [
      "Early stopping triggered after 39 epochs (no improvement for 10 epochs).\n",
      "First 5 scaled predictions: [0.47036532 0.5257788  0.30724338 0.43323925 0.48502085]\n",
      "First 5 inverse-transformed predictions: [17.835045 19.358917 13.349194 16.81408  18.238073]\n",
      "RMSE: 1.2282\n",
      "MAE: 0.9381\n",
      "RMSE: 1.228225649526497, MAE: 0.938064694404602\n",
      "--------------------------------------------------\n",
      "Training with Seq: 10, Hidden: 64, Layers: 2, LR: 0.001\n"
     ]
    },
    {
     "name": "stderr",
     "output_type": "stream",
     "text": [
      "Training Progress:  24%|██▍       | 24/100 [00:12<00:38,  2.00epoch/s, Train Loss=0.0020, Val Loss=0.0024]\n"
     ]
    },
    {
     "name": "stdout",
     "output_type": "stream",
     "text": [
      "Early stopping triggered after 25 epochs (no improvement for 10 epochs).\n",
      "First 5 scaled predictions: [0.45727047 0.51760983 0.31068656 0.41868225 0.46239302]\n",
      "First 5 inverse-transformed predictions: [17.474937 19.134272 13.443881 16.413761 17.615807]\n",
      "RMSE: 1.2819\n",
      "MAE: 0.9954\n",
      "RMSE: 1.2818500230309686, MAE: 0.9954469203948975\n",
      "--------------------------------------------------\n",
      "Training with Seq: 10, Hidden: 64, Layers: 3, LR: 0.001\n"
     ]
    },
    {
     "name": "stderr",
     "output_type": "stream",
     "text": [
      "Training Progress:  34%|███▍      | 34/100 [00:18<00:35,  1.85epoch/s, Train Loss=0.0020, Val Loss=0.0022]\n"
     ]
    },
    {
     "name": "stdout",
     "output_type": "stream",
     "text": [
      "Early stopping triggered after 35 epochs (no improvement for 10 epochs).\n",
      "First 5 scaled predictions: [0.47128466 0.51199514 0.28229827 0.41118678 0.44711468]\n",
      "First 5 inverse-transformed predictions: [17.860327 18.979866 12.663202 16.207636 17.195654]\n",
      "RMSE: 1.3574\n",
      "MAE: 1.0844\n",
      "RMSE: 1.3573659761843588, MAE: 1.0843758583068848\n",
      "--------------------------------------------------\n",
      "Training with Seq: 10, Hidden: 128, Layers: 1, LR: 0.001\n"
     ]
    },
    {
     "name": "stderr",
     "output_type": "stream",
     "text": [
      "Training Progress:  73%|███████▎  | 73/100 [00:33<00:12,  2.18epoch/s, Train Loss=0.0019, Val Loss=0.0020]\n"
     ]
    },
    {
     "name": "stdout",
     "output_type": "stream",
     "text": [
      "Early stopping triggered after 74 epochs (no improvement for 10 epochs).\n",
      "First 5 scaled predictions: [0.4789459  0.5299501  0.32046908 0.43703097 0.47990125]\n",
      "First 5 inverse-transformed predictions: [18.071012 19.473627 13.7129   16.918352 18.097284]\n",
      "RMSE: 1.1860\n",
      "MAE: 0.9034\n",
      "RMSE: 1.1859667064503092, MAE: 0.9034042954444885\n",
      "--------------------------------------------------\n",
      "Training with Seq: 10, Hidden: 128, Layers: 2, LR: 0.001\n"
     ]
    },
    {
     "name": "stderr",
     "output_type": "stream",
     "text": [
      "Training Progress:  23%|██▎       | 23/100 [00:11<00:38,  1.98epoch/s, Train Loss=0.0020, Val Loss=0.0023]\n"
     ]
    },
    {
     "name": "stdout",
     "output_type": "stream",
     "text": [
      "Early stopping triggered after 24 epochs (no improvement for 10 epochs).\n",
      "First 5 scaled predictions: [0.48943216 0.5108561  0.3111756  0.4099887  0.47055858]\n",
      "First 5 inverse-transformed predictions: [18.359385 18.948544 13.45733  16.17469  17.84036 ]\n",
      "RMSE: 1.3489\n",
      "MAE: 1.0832\n",
      "RMSE: 1.3488846639697591, MAE: 1.0831634998321533\n",
      "--------------------------------------------------\n",
      "Training with Seq: 10, Hidden: 128, Layers: 3, LR: 0.001\n"
     ]
    },
    {
     "name": "stderr",
     "output_type": "stream",
     "text": [
      "Training Progress:  19%|█▉        | 19/100 [00:10<00:45,  1.80epoch/s, Train Loss=0.0021, Val Loss=0.0031]\n"
     ]
    },
    {
     "name": "stdout",
     "output_type": "stream",
     "text": [
      "Early stopping triggered after 20 epochs (no improvement for 10 epochs).\n",
      "First 5 scaled predictions: [0.45357382 0.52130276 0.30958128 0.45131016 0.4790892 ]\n",
      "First 5 inverse-transformed predictions: [17.37328  19.235826 13.413486 17.31103  18.074953]\n",
      "RMSE: 1.3589\n",
      "MAE: 1.0846\n",
      "RMSE: 1.3588963685428124, MAE: 1.0845717191696167\n",
      "--------------------------------------------------\n",
      "Training with Seq: 10, Hidden: 256, Layers: 1, LR: 0.001\n"
     ]
    },
    {
     "name": "stderr",
     "output_type": "stream",
     "text": [
      "Training Progress:  36%|███▌      | 36/100 [00:16<00:29,  2.14epoch/s, Train Loss=0.0020, Val Loss=0.0023]\n"
     ]
    },
    {
     "name": "stdout",
     "output_type": "stream",
     "text": [
      "Early stopping triggered after 37 epochs (no improvement for 10 epochs).\n",
      "First 5 scaled predictions: [0.47768474 0.51624036 0.32042813 0.41488692 0.47368637]\n",
      "First 5 inverse-transformed predictions: [18.036331 19.096611 13.711774 16.30939  17.926374]\n",
      "RMSE: 1.3148\n",
      "MAE: 1.0606\n",
      "RMSE: 1.3147621188376832, MAE: 1.0605946779251099\n",
      "--------------------------------------------------\n",
      "Training with Seq: 10, Hidden: 256, Layers: 2, LR: 0.001\n"
     ]
    },
    {
     "name": "stderr",
     "output_type": "stream",
     "text": [
      "Training Progress:  33%|███▎      | 33/100 [00:17<00:34,  1.94epoch/s, Train Loss=0.0021, Val Loss=0.0024]\n"
     ]
    },
    {
     "name": "stdout",
     "output_type": "stream",
     "text": [
      "Early stopping triggered after 34 epochs (no improvement for 10 epochs).\n",
      "First 5 scaled predictions: [0.4746856  0.511216   0.2980816  0.4447953  0.48548955]\n",
      "First 5 inverse-transformed predictions: [17.953854 18.958439 13.097244 17.131872 18.250963]\n",
      "RMSE: 1.2592\n",
      "MAE: 0.9840\n",
      "RMSE: 1.259242648607811, MAE: 0.9839566349983215\n",
      "--------------------------------------------------\n",
      "Training with Seq: 10, Hidden: 256, Layers: 3, LR: 0.001\n"
     ]
    },
    {
     "name": "stderr",
     "output_type": "stream",
     "text": [
      "Training Progress:  41%|████      | 41/100 [00:22<00:32,  1.81epoch/s, Train Loss=0.0078, Val Loss=0.0065]\n"
     ]
    },
    {
     "name": "stdout",
     "output_type": "stream",
     "text": [
      "Early stopping triggered after 42 epochs (no improvement for 10 epochs).\n",
      "First 5 scaled predictions: [0.47473246 0.52077883 0.30991077 0.41164786 0.46237856]\n",
      "First 5 inverse-transformed predictions: [17.955143 19.221418 13.422546 16.220316 17.61541 ]\n",
      "RMSE: 1.2524\n",
      "MAE: 0.9725\n",
      "RMSE: 1.2524312217848586, MAE: 0.9725311398506165\n",
      "--------------------------------------------------\n",
      "Training with Seq: 20, Hidden: 32, Layers: 1, LR: 0.001\n"
     ]
    },
    {
     "name": "stderr",
     "output_type": "stream",
     "text": [
      "Training Progress:  34%|███▍      | 34/100 [00:15<00:30,  2.16epoch/s, Train Loss=0.0019, Val Loss=0.0021]\n"
     ]
    },
    {
     "name": "stdout",
     "output_type": "stream",
     "text": [
      "Early stopping triggered after 35 epochs (no improvement for 10 epochs).\n",
      "First 5 scaled predictions: [0.30168185 0.41371632 0.47255602 0.5161145  0.56665194]\n",
      "First 5 inverse-transformed predictions: [13.196251 16.277199 17.89529  19.09315  20.48293 ]\n",
      "RMSE: 1.2746\n",
      "MAE: 1.0047\n",
      "RMSE: 1.2746362952786567, MAE: 1.0047118663787842\n",
      "--------------------------------------------------\n",
      "Training with Seq: 20, Hidden: 32, Layers: 2, LR: 0.001\n"
     ]
    },
    {
     "name": "stderr",
     "output_type": "stream",
     "text": [
      "Training Progress:  24%|██▍       | 24/100 [00:12<00:38,  1.95epoch/s, Train Loss=0.0020, Val Loss=0.0025]\n"
     ]
    },
    {
     "name": "stdout",
     "output_type": "stream",
     "text": [
      "Early stopping triggered after 25 epochs (no improvement for 10 epochs).\n",
      "First 5 scaled predictions: [0.3152395  0.40863714 0.4865007  0.50158143 0.56446713]\n",
      "First 5 inverse-transformed predictions: [13.569086 16.13752  18.278769 18.69349  20.422846]\n",
      "RMSE: 1.3158\n",
      "MAE: 1.0598\n",
      "RMSE: 1.315809799589469, MAE: 1.0598294734954834\n",
      "--------------------------------------------------\n",
      "Training with Seq: 20, Hidden: 32, Layers: 3, LR: 0.001\n"
     ]
    },
    {
     "name": "stderr",
     "output_type": "stream",
     "text": [
      "Training Progress:  34%|███▍      | 34/100 [00:19<00:36,  1.79epoch/s, Train Loss=0.0020, Val Loss=0.0025]\n"
     ]
    },
    {
     "name": "stdout",
     "output_type": "stream",
     "text": [
      "Early stopping triggered after 35 epochs (no improvement for 10 epochs).\n",
      "First 5 scaled predictions: [0.2793039  0.4222846  0.46707076 0.5124482  0.5585869 ]\n",
      "First 5 inverse-transformed predictions: [12.580857 16.512827 17.744446 18.992325 20.261139]\n",
      "RMSE: 1.3108\n",
      "MAE: 1.0643\n",
      "RMSE: 1.310794084999724, MAE: 1.0643432140350342\n",
      "--------------------------------------------------\n",
      "Training with Seq: 20, Hidden: 64, Layers: 1, LR: 0.001\n"
     ]
    },
    {
     "name": "stderr",
     "output_type": "stream",
     "text": [
      "Training Progress:  40%|████      | 40/100 [00:18<00:28,  2.12epoch/s, Train Loss=0.0019, Val Loss=0.0023]\n"
     ]
    },
    {
     "name": "stdout",
     "output_type": "stream",
     "text": [
      "Early stopping triggered after 41 epochs (no improvement for 10 epochs).\n",
      "First 5 scaled predictions: [0.30406    0.41591206 0.46418938 0.50831074 0.5569551 ]\n",
      "First 5 inverse-transformed predictions: [13.261651 16.337582 17.665207 18.878546 20.216265]\n",
      "RMSE: 1.2731\n",
      "MAE: 1.0081\n",
      "RMSE: 1.2730595314447857, MAE: 1.008095383644104\n",
      "--------------------------------------------------\n",
      "Training with Seq: 20, Hidden: 64, Layers: 2, LR: 0.001\n"
     ]
    },
    {
     "name": "stderr",
     "output_type": "stream",
     "text": [
      "Training Progress:  17%|█▋        | 17/100 [00:08<00:43,  1.92epoch/s, Train Loss=0.0021, Val Loss=0.0024]\n"
     ]
    },
    {
     "name": "stdout",
     "output_type": "stream",
     "text": [
      "Early stopping triggered after 18 epochs (no improvement for 10 epochs).\n",
      "First 5 scaled predictions: [0.32281697 0.41502094 0.47593454 0.5021665  0.56760025]\n",
      "First 5 inverse-transformed predictions: [13.777467 16.313076 17.9882   18.70958  20.509007]\n",
      "RMSE: 1.3417\n",
      "MAE: 1.0781\n",
      "RMSE: 1.341683595364947, MAE: 1.0780727863311768\n",
      "--------------------------------------------------\n",
      "Training with Seq: 20, Hidden: 64, Layers: 3, LR: 0.001\n"
     ]
    },
    {
     "name": "stderr",
     "output_type": "stream",
     "text": [
      "Training Progress:  22%|██▏       | 22/100 [00:12<00:42,  1.82epoch/s, Train Loss=0.0021, Val Loss=0.0024]\n"
     ]
    },
    {
     "name": "stdout",
     "output_type": "stream",
     "text": [
      "Early stopping triggered after 23 epochs (no improvement for 10 epochs).\n",
      "First 5 scaled predictions: [0.29658902 0.4142655  0.47482252 0.5094096  0.5482137 ]\n",
      "First 5 inverse-transformed predictions: [13.056198 16.292301 17.957619 18.908764 19.975878]\n",
      "RMSE: 1.3641\n",
      "MAE: 1.0988\n",
      "RMSE: 1.3641110056569423, MAE: 1.0988492965698242\n",
      "--------------------------------------------------\n",
      "Training with Seq: 20, Hidden: 128, Layers: 1, LR: 0.001\n"
     ]
    },
    {
     "name": "stderr",
     "output_type": "stream",
     "text": [
      "Training Progress:  59%|█████▉    | 59/100 [00:27<00:18,  2.16epoch/s, Train Loss=0.0019, Val Loss=0.0022]\n"
     ]
    },
    {
     "name": "stdout",
     "output_type": "stream",
     "text": [
      "Early stopping triggered after 60 epochs (no improvement for 10 epochs).\n",
      "First 5 scaled predictions: [0.3101178  0.4160399  0.47404543 0.5081104  0.5626064 ]\n",
      "First 5 inverse-transformed predictions: [13.42824  16.341097 17.936249 18.873035 20.371675]\n",
      "RMSE: 1.2643\n",
      "MAE: 1.0117\n",
      "RMSE: 1.2643106959571133, MAE: 1.0116652250289917\n",
      "--------------------------------------------------\n",
      "Training with Seq: 20, Hidden: 128, Layers: 2, LR: 0.001\n"
     ]
    },
    {
     "name": "stderr",
     "output_type": "stream",
     "text": [
      "Training Progress:  51%|█████     | 51/100 [00:25<00:24,  2.00epoch/s, Train Loss=0.0020, Val Loss=0.0023]\n"
     ]
    },
    {
     "name": "stdout",
     "output_type": "stream",
     "text": [
      "Early stopping triggered after 52 epochs (no improvement for 10 epochs).\n",
      "First 5 scaled predictions: [0.305636   0.43618676 0.47055295 0.52724254 0.57229805]\n",
      "First 5 inverse-transformed predictions: [13.30499  16.895136 17.840206 19.39917  20.638197]\n",
      "RMSE: 1.2695\n",
      "MAE: 1.0115\n",
      "RMSE: 1.269511577747222, MAE: 1.0115199089050293\n",
      "--------------------------------------------------\n",
      "Training with Seq: 20, Hidden: 128, Layers: 3, LR: 0.001\n"
     ]
    },
    {
     "name": "stderr",
     "output_type": "stream",
     "text": [
      "Training Progress:  22%|██▏       | 22/100 [00:12<00:43,  1.80epoch/s, Train Loss=0.0021, Val Loss=0.0024]\n"
     ]
    },
    {
     "name": "stdout",
     "output_type": "stream",
     "text": [
      "Early stopping triggered after 23 epochs (no improvement for 10 epochs).\n",
      "First 5 scaled predictions: [0.29807958 0.396655   0.4945687  0.5095359  0.5704353 ]\n",
      "First 5 inverse-transformed predictions: [13.097189 15.808012 18.500639 18.912237 20.586971]\n",
      "RMSE: 1.3304\n",
      "MAE: 1.0606\n",
      "RMSE: 1.3304326821420658, MAE: 1.0606317520141602\n",
      "--------------------------------------------------\n",
      "Training with Seq: 20, Hidden: 256, Layers: 1, LR: 0.001\n"
     ]
    },
    {
     "name": "stderr",
     "output_type": "stream",
     "text": [
      "Training Progress:  50%|█████     | 50/100 [00:23<00:23,  2.13epoch/s, Train Loss=0.0037, Val Loss=0.0052]\n"
     ]
    },
    {
     "name": "stdout",
     "output_type": "stream",
     "text": [
      "Early stopping triggered after 51 epochs (no improvement for 10 epochs).\n",
      "First 5 scaled predictions: [0.32673454 0.42437217 0.48364136 0.5135114  0.56592625]\n",
      "First 5 inverse-transformed predictions: [13.8852005 16.570234  18.200136  19.021564  20.462973 ]\n",
      "RMSE: 1.2531\n",
      "MAE: 0.9719\n",
      "RMSE: 1.2530537497034977, MAE: 0.971857488155365\n",
      "--------------------------------------------------\n",
      "Training with Seq: 20, Hidden: 256, Layers: 2, LR: 0.001\n"
     ]
    },
    {
     "name": "stderr",
     "output_type": "stream",
     "text": [
      "Training Progress:  42%|████▏     | 42/100 [00:21<00:29,  1.94epoch/s, Train Loss=0.0035, Val Loss=0.0033]\n"
     ]
    },
    {
     "name": "stdout",
     "output_type": "stream",
     "text": [
      "Early stopping triggered after 43 epochs (no improvement for 10 epochs).\n",
      "First 5 scaled predictions: [0.30578324 0.4420441  0.4913575  0.52470124 0.56767833]\n",
      "First 5 inverse-transformed predictions: [13.309039 17.056213 18.412333 19.329285 20.511154]\n",
      "RMSE: 1.2311\n",
      "MAE: 0.9770\n",
      "RMSE: 1.2310697994911488, MAE: 0.9770282506942749\n",
      "--------------------------------------------------\n",
      "Training with Seq: 20, Hidden: 256, Layers: 3, LR: 0.001\n"
     ]
    },
    {
     "name": "stderr",
     "output_type": "stream",
     "text": [
      "Training Progress:  26%|██▌       | 26/100 [00:15<00:42,  1.73epoch/s, Train Loss=0.0021, Val Loss=0.0023]\n"
     ]
    },
    {
     "name": "stdout",
     "output_type": "stream",
     "text": [
      "Early stopping triggered after 27 epochs (no improvement for 10 epochs).\n",
      "First 5 scaled predictions: [0.29846594 0.43024185 0.4923791  0.5264264  0.58456486]\n",
      "First 5 inverse-transformed predictions: [13.107814 16.731651 18.440424 19.376726 20.975534]\n",
      "RMSE: 1.3020\n",
      "MAE: 1.0450\n",
      "RMSE: 1.301976339394772, MAE: 1.0450230836868286\n",
      "--------------------------------------------------\n",
      "Training with Seq: 30, Hidden: 32, Layers: 1, LR: 0.001\n"
     ]
    },
    {
     "name": "stderr",
     "output_type": "stream",
     "text": [
      "Training Progress:  37%|███▋      | 37/100 [00:17<00:29,  2.17epoch/s, Train Loss=0.0019, Val Loss=0.0024]\n"
     ]
    },
    {
     "name": "stdout",
     "output_type": "stream",
     "text": [
      "Early stopping triggered after 38 epochs (no improvement for 10 epochs).\n",
      "First 5 scaled predictions: [0.4699757  0.52242076 0.5730474  0.6152319  0.5592109 ]\n",
      "First 5 inverse-transformed predictions: [17.824333 19.266571 20.658804 21.818876 20.2783  ]\n",
      "RMSE: 1.2256\n",
      "MAE: 0.9726\n",
      "RMSE: 1.2256320899085245, MAE: 0.9726259708404541\n",
      "--------------------------------------------------\n",
      "Training with Seq: 30, Hidden: 32, Layers: 2, LR: 0.001\n"
     ]
    },
    {
     "name": "stderr",
     "output_type": "stream",
     "text": [
      "Training Progress:  44%|████▍     | 44/100 [00:22<00:28,  1.99epoch/s, Train Loss=0.0020, Val Loss=0.0025]\n"
     ]
    },
    {
     "name": "stdout",
     "output_type": "stream",
     "text": [
      "Early stopping triggered after 45 epochs (no improvement for 10 epochs).\n",
      "First 5 scaled predictions: [0.4664216  0.5305873  0.55245435 0.61700463 0.5536392 ]\n",
      "First 5 inverse-transformed predictions: [17.726595 19.491152 20.092495 21.867628 20.125078]\n",
      "RMSE: 1.2257\n",
      "MAE: 0.9760\n",
      "RMSE: 1.2257206937712601, MAE: 0.9760434627532959\n",
      "--------------------------------------------------\n",
      "Training with Seq: 30, Hidden: 32, Layers: 3, LR: 0.001\n"
     ]
    },
    {
     "name": "stderr",
     "output_type": "stream",
     "text": [
      "Training Progress:  25%|██▌       | 25/100 [00:14<00:42,  1.77epoch/s, Train Loss=0.0020, Val Loss=0.0022]\n"
     ]
    },
    {
     "name": "stdout",
     "output_type": "stream",
     "text": [
      "Early stopping triggered after 26 epochs (no improvement for 10 epochs).\n",
      "First 5 scaled predictions: [0.448972  0.5170148 0.5728887 0.616662  0.5688158]\n",
      "First 5 inverse-transformed predictions: [17.24673  19.117907 20.654438 21.858206 20.542435]\n",
      "RMSE: 1.2442\n",
      "MAE: 0.9788\n",
      "RMSE: 1.2441667347418495, MAE: 0.9787922501564026\n",
      "--------------------------------------------------\n",
      "Training with Seq: 30, Hidden: 64, Layers: 1, LR: 0.001\n"
     ]
    },
    {
     "name": "stderr",
     "output_type": "stream",
     "text": [
      "Training Progress:  48%|████▊     | 48/100 [00:22<00:24,  2.15epoch/s, Train Loss=0.0019, Val Loss=0.0022]\n"
     ]
    },
    {
     "name": "stdout",
     "output_type": "stream",
     "text": [
      "Early stopping triggered after 49 epochs (no improvement for 10 epochs).\n",
      "First 5 scaled predictions: [0.4774984  0.52083576 0.55319774 0.6153101  0.54527074]\n",
      "First 5 inverse-transformed predictions: [18.031206 19.222984 20.112938 21.821028 19.894945]\n",
      "RMSE: 1.2384\n",
      "MAE: 0.9830\n",
      "RMSE: 1.238379970911364, MAE: 0.982999861240387\n",
      "--------------------------------------------------\n",
      "Training with Seq: 30, Hidden: 64, Layers: 2, LR: 0.001\n"
     ]
    },
    {
     "name": "stderr",
     "output_type": "stream",
     "text": [
      "Training Progress:  38%|███▊      | 38/100 [00:19<00:31,  1.99epoch/s, Train Loss=0.0019, Val Loss=0.0022]\n"
     ]
    },
    {
     "name": "stdout",
     "output_type": "stream",
     "text": [
      "Early stopping triggered after 39 epochs (no improvement for 10 epochs).\n",
      "First 5 scaled predictions: [0.45714372 0.51213884 0.54273504 0.6047885  0.54921466]\n",
      "First 5 inverse-transformed predictions: [17.471453 18.983818 19.825214 21.531683 20.003403]\n",
      "RMSE: 1.2757\n",
      "MAE: 1.0244\n",
      "RMSE: 1.2757410382990084, MAE: 1.0243974924087524\n",
      "--------------------------------------------------\n",
      "Training with Seq: 30, Hidden: 64, Layers: 3, LR: 0.001\n"
     ]
    },
    {
     "name": "stderr",
     "output_type": "stream",
     "text": [
      "Training Progress:  18%|█▊        | 18/100 [00:10<00:46,  1.77epoch/s, Train Loss=0.0021, Val Loss=0.0025]\n"
     ]
    },
    {
     "name": "stdout",
     "output_type": "stream",
     "text": [
      "Early stopping triggered after 19 epochs (no improvement for 10 epochs).\n",
      "First 5 scaled predictions: [0.4820056  0.50638807 0.56525075 0.6040591  0.5570931 ]\n",
      "First 5 inverse-transformed predictions: [18.155153 18.825672 20.444395 21.511625 20.22006 ]\n",
      "RMSE: 1.4336\n",
      "MAE: 1.1806\n",
      "RMSE: 1.4335667246420218, MAE: 1.1806340217590332\n",
      "--------------------------------------------------\n",
      "Training with Seq: 30, Hidden: 128, Layers: 1, LR: 0.001\n"
     ]
    },
    {
     "name": "stderr",
     "output_type": "stream",
     "text": [
      "Training Progress:  43%|████▎     | 43/100 [00:20<00:26,  2.15epoch/s, Train Loss=0.0020, Val Loss=0.0022]\n"
     ]
    },
    {
     "name": "stdout",
     "output_type": "stream",
     "text": [
      "Early stopping triggered after 44 epochs (no improvement for 10 epochs).\n",
      "First 5 scaled predictions: [0.46056744 0.5311179  0.5550314  0.60537857 0.54616326]\n",
      "First 5 inverse-transformed predictions: [17.565603 19.505743 20.163364 21.54791  19.91949 ]\n",
      "RMSE: 1.2707\n",
      "MAE: 1.0095\n",
      "RMSE: 1.2706962991009891, MAE: 1.0094666481018066\n",
      "--------------------------------------------------\n",
      "Training with Seq: 30, Hidden: 128, Layers: 2, LR: 0.001\n"
     ]
    },
    {
     "name": "stderr",
     "output_type": "stream",
     "text": [
      "Training Progress:  41%|████      | 41/100 [00:20<00:30,  1.95epoch/s, Train Loss=0.0019, Val Loss=0.0025]\n"
     ]
    },
    {
     "name": "stdout",
     "output_type": "stream",
     "text": [
      "Early stopping triggered after 42 epochs (no improvement for 10 epochs).\n",
      "First 5 scaled predictions: [0.48058328 0.5175616  0.57064766 0.618316   0.5533523 ]\n",
      "First 5 inverse-transformed predictions: [18.11604  19.132944 20.592812 21.90369  20.117188]\n",
      "RMSE: 1.2307\n",
      "MAE: 0.9649\n",
      "RMSE: 1.2307349507436334, MAE: 0.9649089574813843\n",
      "--------------------------------------------------\n",
      "Training with Seq: 30, Hidden: 128, Layers: 3, LR: 0.001\n"
     ]
    },
    {
     "name": "stderr",
     "output_type": "stream",
     "text": [
      "Training Progress:  21%|██        | 21/100 [00:11<00:44,  1.76epoch/s, Train Loss=0.0021, Val Loss=0.0029]\n"
     ]
    },
    {
     "name": "stdout",
     "output_type": "stream",
     "text": [
      "Early stopping triggered after 22 epochs (no improvement for 10 epochs).\n",
      "First 5 scaled predictions: [0.46346885 0.50239974 0.54540807 0.60053134 0.5552835 ]\n",
      "First 5 inverse-transformed predictions: [17.645393 18.715994 19.898722 21.414612 20.170296]\n",
      "RMSE: 1.3477\n",
      "MAE: 1.0902\n",
      "RMSE: 1.3476868114599705, MAE: 1.0901719331741333\n",
      "--------------------------------------------------\n",
      "Training with Seq: 30, Hidden: 256, Layers: 1, LR: 0.001\n"
     ]
    },
    {
     "name": "stderr",
     "output_type": "stream",
     "text": [
      "Training Progress:  44%|████▍     | 44/100 [00:20<00:26,  2.12epoch/s, Train Loss=0.0020, Val Loss=0.0022]\n"
     ]
    },
    {
     "name": "stdout",
     "output_type": "stream",
     "text": [
      "Early stopping triggered after 45 epochs (no improvement for 10 epochs).\n",
      "First 5 scaled predictions: [0.48035043 0.53220147 0.5611407  0.6068631  0.5465483 ]\n",
      "First 5 inverse-transformed predictions: [18.109636 19.535542 20.33137  21.588736 19.930079]\n",
      "RMSE: 1.2306\n",
      "MAE: 0.9577\n",
      "RMSE: 1.2305672257996387, MAE: 0.9577071666717529\n",
      "--------------------------------------------------\n",
      "Training with Seq: 30, Hidden: 256, Layers: 2, LR: 0.001\n"
     ]
    },
    {
     "name": "stderr",
     "output_type": "stream",
     "text": [
      "Training Progress:  37%|███▋      | 37/100 [00:20<00:34,  1.84epoch/s, Train Loss=0.0753, Val Loss=0.0382]\n"
     ]
    },
    {
     "name": "stdout",
     "output_type": "stream",
     "text": [
      "Early stopping triggered after 38 epochs (no improvement for 10 epochs).\n",
      "First 5 scaled predictions: [0.46053055 0.52247345 0.5674807  0.6031717  0.5640127 ]\n",
      "First 5 inverse-transformed predictions: [17.56459  19.26802  20.505718 21.487223 20.410349]\n",
      "RMSE: 1.2641\n",
      "MAE: 0.9992\n",
      "RMSE: 1.2640989545886776, MAE: 0.9992055296897888\n",
      "--------------------------------------------------\n",
      "Training with Seq: 30, Hidden: 256, Layers: 3, LR: 0.001\n"
     ]
    },
    {
     "name": "stderr",
     "output_type": "stream",
     "text": [
      "Training Progress:  21%|██        | 21/100 [00:12<00:46,  1.71epoch/s, Train Loss=0.0021, Val Loss=0.0024]\n"
     ]
    },
    {
     "name": "stdout",
     "output_type": "stream",
     "text": [
      "Early stopping triggered after 22 epochs (no improvement for 10 epochs).\n",
      "First 5 scaled predictions: [0.480909   0.51925844 0.58068436 0.6087546  0.55422324]\n",
      "First 5 inverse-transformed predictions: [18.124998 19.179607 20.86882  21.64075  20.14114 ]\n",
      "RMSE: 1.3174\n",
      "MAE: 1.0394\n",
      "RMSE: 1.3173698271951992, MAE: 1.03943932056427\n",
      "--------------------------------------------------\n"
     ]
    },
    {
     "data": {
      "image/png": "[encoded data removed]",
      "text/plain": [
       "<Figure size 640x480 with 1 Axes>"
      ]
     },
     "metadata": {},
     "output_type": "display_data"
    }
   ],
   "source": [
    "sequence_lengths = [10, 20, 30]\n",
    "hidden_sizes = [32, 64, 128, 256]\n",
    "num_layers = [1, 2, 3]\n",
    "learning_rates = [0.001]\n",
    "\n",
    "def all_in_one(features, target, sequence_length, hidden_size, num_layers, learning_rate):\n",
    "\n",
    "    X, y = create_dataset(features, target, sequence_length)\n",
    "    X = torch.tensor(X, dtype=torch.float32).to(device)\n",
    "    y = torch.tensor(y, dtype=torch.float32).to(device)\n",
    "\n",
    "    X_train, X_test, y_train, y_test = train_test_split(X, y, test_size=0.2, random_state=42, shuffle=False)\n",
    "    X_train, X_val, y_train, y_val = train_test_split(X_train, y_train, test_size=0.2, random_state=42, shuffle=False)\n",
    "\n",
    "    train_dataset = CustomDataset(X_train, y_train)\n",
    "    val_dataset = CustomDataset(X_val, y_val)\n",
    "    test_dataset = CustomDataset(X_test, y_test)\n",
    "\n",
    "    train_loader = DataLoader(train_dataset, batch_size=32, shuffle=True)\n",
    "    val_loader = DataLoader(val_dataset, batch_size=32, shuffle=False)\n",
    "    test_loader = DataLoader(test_dataset, batch_size=32, shuffle=False)\n",
    "\n",
    "    model = EnhancedRNNModel(input_size=X.shape[2], hidden_size=hidden_size, output_size=1, num_layers=num_layers).to(device)\n",
    "    criterion = nn.MSELoss()\n",
    "    optimizer = optim.Adam(model.parameters(), lr=learning_rate)\n",
    "\n",
    "    train_losses, val_losses = train_model(model, train_loader, val_loader, criterion, optimizer, num_epochs=100, patience=10, device=device)\n",
    "    predictions, actuals = evaluate_model(model, test_loader, scaler_target)\n",
    "\n",
    "    plot_performance(train_losses, val_losses, predictions, actuals, title = f'LSTM_Model_Seq_{sequence_length}_Hidden_{hidden_size}_Layers_{num_layers}_LR_{learning_rate}')\n",
    "    rmse, mae = calculate_metrics(predictions, actuals)\n",
    "\n",
    "    return rmse, mae\n",
    "\n",
    "# Implementing grid search for hyperparameter tuning\n",
    "results = []\n",
    "for seq_len in sequence_lengths:\n",
    "    for hidden_size in hidden_sizes:\n",
    "        for num_layer in num_layers:\n",
    "            for lr in learning_rates:\n",
    "                print(f\"Training with Seq: {seq_len}, Hidden: {hidden_size}, Layers: {num_layer}, LR: {lr}\")\n",
    "                rmse, mae = all_in_one(combined_features, target_scaled, seq_len, hidden_size, num_layer, lr)\n",
    "                results.append((seq_len, hidden_size, num_layer, lr, rmse, mae))\n",
    "                print(f\"RMSE: {rmse}, MAE: {mae}\")\n",
    "                print(\"-\" * 50)\n",
    "\n",
    "# Convert results to DataFrame for better visualization\n",
    "results_df = pd.DataFrame(results, columns=['Sequence Length', 'Hidden Size', 'Num Layers', 'Learning Rate', 'RMSE', 'MAE'])\n",
    "results_df.to_csv('hyperparameter_tuning_results.csv', index=False)\n"
   ]
  },
  {
   "cell_type": "code",
   "execution_count": null,
   "id": "cd975393",
   "metadata": {},
   "outputs": [],
   "source": []
  }
 ],
 "metadata": {
  "kernelspec": {
   "display_name": "gp",
   "language": "python",
   "name": "python3"
  },
  "language_info": {
   "codemirror_mode": {
    "name": "ipython",
    "version": 3
   },
   "file_extension": ".py",
   "mimetype": "text/x-python",
   "name": "python",
   "nbconvert_exporter": "python",
   "pygments_lexer": "ipython3",
   "version": "3.12.9"
  }
 },
 "nbformat": 4,
 "nbformat_minor": 5
}

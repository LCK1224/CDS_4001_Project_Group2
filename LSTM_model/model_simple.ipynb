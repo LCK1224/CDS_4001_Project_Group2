{
 "cells": [
  {
   "cell_type": "markdown",
   "id": "399ee071",
   "metadata": {},
   "source": [
    "## Get the Data"
   ]
  },
  {
   "cell_type": "code",
   "execution_count": 13,
   "id": "31f5b91d",
   "metadata": {},
   "outputs": [
    {
     "data": {
      "text/html": [
       "<div>\n",
       "<style scoped>\n",
       "    .dataframe tbody tr th:only-of-type {\n",
       "        vertical-align: middle;\n",
       "    }\n",
       "\n",
       "    .dataframe tbody tr th {\n",
       "        vertical-align: top;\n",
       "    }\n",
       "\n",
       "    .dataframe thead th {\n",
       "        text-align: right;\n",
       "    }\n",
       "</style>\n",
       "<table border=\"1\" class=\"dataframe\">\n",
       "  <thead>\n",
       "    <tr style=\"text-align: right;\">\n",
       "      <th></th>\n",
       "      <th>Mean Temperature</th>\n",
       "      <th>Mean Pressure</th>\n",
       "      <th>Rainfall</th>\n",
       "      <th>Relative Humidity</th>\n",
       "      <th>Mean Cloud</th>\n",
       "      <th>Evaporation</th>\n",
       "      <th>Global Solar Radiation</th>\n",
       "      <th>Max UV</th>\n",
       "      <th>Wind Speed</th>\n",
       "      <th>Mean UV</th>\n",
       "      <th>...</th>\n",
       "      <th>RSP</th>\n",
       "      <th>O3</th>\n",
       "      <th>FSP</th>\n",
       "      <th>Intensity</th>\n",
       "      <th>Signal</th>\n",
       "      <th>Duration(hr min)</th>\n",
       "      <th>day_sin</th>\n",
       "      <th>day_cos</th>\n",
       "      <th>wind_sin</th>\n",
       "      <th>wind_cos</th>\n",
       "    </tr>\n",
       "  </thead>\n",
       "  <tbody>\n",
       "    <tr>\n",
       "      <th>0</th>\n",
       "      <td>15.4</td>\n",
       "      <td>1025.1</td>\n",
       "      <td>0.00</td>\n",
       "      <td>68.0</td>\n",
       "      <td>57.0</td>\n",
       "      <td>3.4</td>\n",
       "      <td>18.11</td>\n",
       "      <td>10.072187</td>\n",
       "      <td>6.730814</td>\n",
       "      <td>4.592663</td>\n",
       "      <td>...</td>\n",
       "      <td>43.0</td>\n",
       "      <td>0.0</td>\n",
       "      <td>31.0</td>\n",
       "      <td>0.0</td>\n",
       "      <td>0.0</td>\n",
       "      <td>0.0</td>\n",
       "      <td>0.999991</td>\n",
       "      <td>0.004304</td>\n",
       "      <td>0.173648</td>\n",
       "      <td>0.984808</td>\n",
       "    </tr>\n",
       "    <tr>\n",
       "      <th>1</th>\n",
       "      <td>16.6</td>\n",
       "      <td>1025.8</td>\n",
       "      <td>0.00</td>\n",
       "      <td>69.0</td>\n",
       "      <td>79.0</td>\n",
       "      <td>3.1</td>\n",
       "      <td>12.94</td>\n",
       "      <td>9.279723</td>\n",
       "      <td>8.470005</td>\n",
       "      <td>3.780165</td>\n",
       "      <td>...</td>\n",
       "      <td>57.0</td>\n",
       "      <td>0.0</td>\n",
       "      <td>37.0</td>\n",
       "      <td>0.0</td>\n",
       "      <td>0.0</td>\n",
       "      <td>0.0</td>\n",
       "      <td>0.999917</td>\n",
       "      <td>-0.012910</td>\n",
       "      <td>0.173648</td>\n",
       "      <td>0.984808</td>\n",
       "    </tr>\n",
       "    <tr>\n",
       "      <th>2</th>\n",
       "      <td>17.5</td>\n",
       "      <td>1023.0</td>\n",
       "      <td>0.00</td>\n",
       "      <td>69.0</td>\n",
       "      <td>53.0</td>\n",
       "      <td>4.0</td>\n",
       "      <td>20.32</td>\n",
       "      <td>10.851292</td>\n",
       "      <td>6.246643</td>\n",
       "      <td>5.183114</td>\n",
       "      <td>...</td>\n",
       "      <td>51.0</td>\n",
       "      <td>0.0</td>\n",
       "      <td>37.0</td>\n",
       "      <td>0.0</td>\n",
       "      <td>0.0</td>\n",
       "      <td>0.0</td>\n",
       "      <td>0.999546</td>\n",
       "      <td>-0.030120</td>\n",
       "      <td>0.173648</td>\n",
       "      <td>0.984808</td>\n",
       "    </tr>\n",
       "    <tr>\n",
       "      <th>3</th>\n",
       "      <td>18.5</td>\n",
       "      <td>1018.7</td>\n",
       "      <td>0.00</td>\n",
       "      <td>78.0</td>\n",
       "      <td>89.0</td>\n",
       "      <td>2.8</td>\n",
       "      <td>12.21</td>\n",
       "      <td>11.371977</td>\n",
       "      <td>10.663324</td>\n",
       "      <td>4.197858</td>\n",
       "      <td>...</td>\n",
       "      <td>53.0</td>\n",
       "      <td>-0.0</td>\n",
       "      <td>33.0</td>\n",
       "      <td>0.0</td>\n",
       "      <td>0.0</td>\n",
       "      <td>0.0</td>\n",
       "      <td>0.998880</td>\n",
       "      <td>-0.047321</td>\n",
       "      <td>0.342020</td>\n",
       "      <td>0.939693</td>\n",
       "    </tr>\n",
       "    <tr>\n",
       "      <th>4</th>\n",
       "      <td>19.7</td>\n",
       "      <td>1014.7</td>\n",
       "      <td>0.05</td>\n",
       "      <td>85.0</td>\n",
       "      <td>90.0</td>\n",
       "      <td>1.6</td>\n",
       "      <td>11.50</td>\n",
       "      <td>10.239657</td>\n",
       "      <td>11.126056</td>\n",
       "      <td>3.814848</td>\n",
       "      <td>...</td>\n",
       "      <td>54.0</td>\n",
       "      <td>-0.0</td>\n",
       "      <td>33.0</td>\n",
       "      <td>0.0</td>\n",
       "      <td>0.0</td>\n",
       "      <td>0.0</td>\n",
       "      <td>0.997917</td>\n",
       "      <td>-0.064508</td>\n",
       "      <td>0.500000</td>\n",
       "      <td>0.866025</td>\n",
       "    </tr>\n",
       "    <tr>\n",
       "      <th>...</th>\n",
       "      <td>...</td>\n",
       "      <td>...</td>\n",
       "      <td>...</td>\n",
       "      <td>...</td>\n",
       "      <td>...</td>\n",
       "      <td>...</td>\n",
       "      <td>...</td>\n",
       "      <td>...</td>\n",
       "      <td>...</td>\n",
       "      <td>...</td>\n",
       "      <td>...</td>\n",
       "      <td>...</td>\n",
       "      <td>...</td>\n",
       "      <td>...</td>\n",
       "      <td>...</td>\n",
       "      <td>...</td>\n",
       "      <td>...</td>\n",
       "      <td>...</td>\n",
       "      <td>...</td>\n",
       "      <td>...</td>\n",
       "      <td>...</td>\n",
       "    </tr>\n",
       "    <tr>\n",
       "      <th>12157</th>\n",
       "      <td>27.3</td>\n",
       "      <td>1009.3</td>\n",
       "      <td>0.05</td>\n",
       "      <td>73.0</td>\n",
       "      <td>77.0</td>\n",
       "      <td>3.1</td>\n",
       "      <td>9.52</td>\n",
       "      <td>4.000000</td>\n",
       "      <td>12.200000</td>\n",
       "      <td>2.000000</td>\n",
       "      <td>...</td>\n",
       "      <td>24.0</td>\n",
       "      <td>65.0</td>\n",
       "      <td>18.0</td>\n",
       "      <td>0.0</td>\n",
       "      <td>0.0</td>\n",
       "      <td>0.0</td>\n",
       "      <td>-0.891981</td>\n",
       "      <td>0.452072</td>\n",
       "      <td>0.984808</td>\n",
       "      <td>-0.173648</td>\n",
       "    </tr>\n",
       "    <tr>\n",
       "      <th>12158</th>\n",
       "      <td>25.8</td>\n",
       "      <td>1010.1</td>\n",
       "      <td>0.05</td>\n",
       "      <td>67.0</td>\n",
       "      <td>83.0</td>\n",
       "      <td>3.0</td>\n",
       "      <td>6.97</td>\n",
       "      <td>4.000000</td>\n",
       "      <td>9.700000</td>\n",
       "      <td>2.000000</td>\n",
       "      <td>...</td>\n",
       "      <td>16.0</td>\n",
       "      <td>28.0</td>\n",
       "      <td>11.0</td>\n",
       "      <td>0.0</td>\n",
       "      <td>0.0</td>\n",
       "      <td>0.0</td>\n",
       "      <td>-0.884068</td>\n",
       "      <td>0.467359</td>\n",
       "      <td>0.500000</td>\n",
       "      <td>0.866025</td>\n",
       "    </tr>\n",
       "    <tr>\n",
       "      <th>12159</th>\n",
       "      <td>25.3</td>\n",
       "      <td>1011.1</td>\n",
       "      <td>0.05</td>\n",
       "      <td>69.0</td>\n",
       "      <td>86.0</td>\n",
       "      <td>3.0</td>\n",
       "      <td>9.41</td>\n",
       "      <td>6.000000</td>\n",
       "      <td>8.400000</td>\n",
       "      <td>2.000000</td>\n",
       "      <td>...</td>\n",
       "      <td>19.0</td>\n",
       "      <td>31.0</td>\n",
       "      <td>14.0</td>\n",
       "      <td>0.0</td>\n",
       "      <td>0.0</td>\n",
       "      <td>0.0</td>\n",
       "      <td>-0.875892</td>\n",
       "      <td>0.482508</td>\n",
       "      <td>0.500000</td>\n",
       "      <td>0.866025</td>\n",
       "    </tr>\n",
       "    <tr>\n",
       "      <th>12160</th>\n",
       "      <td>26.2</td>\n",
       "      <td>1010.3</td>\n",
       "      <td>0.00</td>\n",
       "      <td>64.0</td>\n",
       "      <td>70.0</td>\n",
       "      <td>5.0</td>\n",
       "      <td>18.57</td>\n",
       "      <td>7.000000</td>\n",
       "      <td>8.300000</td>\n",
       "      <td>3.000000</td>\n",
       "      <td>...</td>\n",
       "      <td>28.0</td>\n",
       "      <td>36.0</td>\n",
       "      <td>20.0</td>\n",
       "      <td>0.0</td>\n",
       "      <td>0.0</td>\n",
       "      <td>0.0</td>\n",
       "      <td>-0.867456</td>\n",
       "      <td>0.497513</td>\n",
       "      <td>0.500000</td>\n",
       "      <td>0.866025</td>\n",
       "    </tr>\n",
       "    <tr>\n",
       "      <th>12161</th>\n",
       "      <td>27.1</td>\n",
       "      <td>1006.0</td>\n",
       "      <td>0.00</td>\n",
       "      <td>52.0</td>\n",
       "      <td>41.0</td>\n",
       "      <td>5.1</td>\n",
       "      <td>19.34</td>\n",
       "      <td>7.000000</td>\n",
       "      <td>10.000000</td>\n",
       "      <td>3.000000</td>\n",
       "      <td>...</td>\n",
       "      <td>29.0</td>\n",
       "      <td>44.0</td>\n",
       "      <td>21.0</td>\n",
       "      <td>0.0</td>\n",
       "      <td>0.0</td>\n",
       "      <td>0.0</td>\n",
       "      <td>-0.858764</td>\n",
       "      <td>0.512371</td>\n",
       "      <td>-0.939693</td>\n",
       "      <td>0.342020</td>\n",
       "    </tr>\n",
       "  </tbody>\n",
       "</table>\n",
       "<p>12162 rows × 25 columns</p>\n",
       "</div>"
      ],
      "text/plain": [
       "       Mean Temperature  Mean Pressure  Rainfall  Relative Humidity  \\\n",
       "0                  15.4         1025.1      0.00               68.0   \n",
       "1                  16.6         1025.8      0.00               69.0   \n",
       "2                  17.5         1023.0      0.00               69.0   \n",
       "3                  18.5         1018.7      0.00               78.0   \n",
       "4                  19.7         1014.7      0.05               85.0   \n",
       "...                 ...            ...       ...                ...   \n",
       "12157              27.3         1009.3      0.05               73.0   \n",
       "12158              25.8         1010.1      0.05               67.0   \n",
       "12159              25.3         1011.1      0.05               69.0   \n",
       "12160              26.2         1010.3      0.00               64.0   \n",
       "12161              27.1         1006.0      0.00               52.0   \n",
       "\n",
       "       Mean Cloud  Evaporation  Global Solar Radiation     Max UV  Wind Speed  \\\n",
       "0            57.0          3.4                   18.11  10.072187    6.730814   \n",
       "1            79.0          3.1                   12.94   9.279723    8.470005   \n",
       "2            53.0          4.0                   20.32  10.851292    6.246643   \n",
       "3            89.0          2.8                   12.21  11.371977   10.663324   \n",
       "4            90.0          1.6                   11.50  10.239657   11.126056   \n",
       "...           ...          ...                     ...        ...         ...   \n",
       "12157        77.0          3.1                    9.52   4.000000   12.200000   \n",
       "12158        83.0          3.0                    6.97   4.000000    9.700000   \n",
       "12159        86.0          3.0                    9.41   6.000000    8.400000   \n",
       "12160        70.0          5.0                   18.57   7.000000    8.300000   \n",
       "12161        41.0          5.1                   19.34   7.000000   10.000000   \n",
       "\n",
       "        Mean UV  ...   RSP    O3   FSP  Intensity  Signal  Duration(hr min)  \\\n",
       "0      4.592663  ...  43.0   0.0  31.0        0.0     0.0               0.0   \n",
       "1      3.780165  ...  57.0   0.0  37.0        0.0     0.0               0.0   \n",
       "2      5.183114  ...  51.0   0.0  37.0        0.0     0.0               0.0   \n",
       "3      4.197858  ...  53.0  -0.0  33.0        0.0     0.0               0.0   \n",
       "4      3.814848  ...  54.0  -0.0  33.0        0.0     0.0               0.0   \n",
       "...         ...  ...   ...   ...   ...        ...     ...               ...   \n",
       "12157  2.000000  ...  24.0  65.0  18.0        0.0     0.0               0.0   \n",
       "12158  2.000000  ...  16.0  28.0  11.0        0.0     0.0               0.0   \n",
       "12159  2.000000  ...  19.0  31.0  14.0        0.0     0.0               0.0   \n",
       "12160  3.000000  ...  28.0  36.0  20.0        0.0     0.0               0.0   \n",
       "12161  3.000000  ...  29.0  44.0  21.0        0.0     0.0               0.0   \n",
       "\n",
       "        day_sin   day_cos  wind_sin  wind_cos  \n",
       "0      0.999991  0.004304  0.173648  0.984808  \n",
       "1      0.999917 -0.012910  0.173648  0.984808  \n",
       "2      0.999546 -0.030120  0.173648  0.984808  \n",
       "3      0.998880 -0.047321  0.342020  0.939693  \n",
       "4      0.997917 -0.064508  0.500000  0.866025  \n",
       "...         ...       ...       ...       ...  \n",
       "12157 -0.891981  0.452072  0.984808 -0.173648  \n",
       "12158 -0.884068  0.467359  0.500000  0.866025  \n",
       "12159 -0.875892  0.482508  0.500000  0.866025  \n",
       "12160 -0.867456  0.497513  0.500000  0.866025  \n",
       "12161 -0.858764  0.512371 -0.939693  0.342020  \n",
       "\n",
       "[12162 rows x 25 columns]"
      ]
     },
     "execution_count": 13,
     "metadata": {},
     "output_type": "execute_result"
    }
   ],
   "source": [
    "import pandas as pd\n",
    "\n",
    "df = pd.read_csv(\"../Data/cleaned_dataset.csv\")\n",
    "df"
   ]
  },
  {
   "cell_type": "markdown",
   "id": "0d61e8ff",
   "metadata": {},
   "source": [
    "## Environment Setup"
   ]
  },
  {
   "cell_type": "code",
   "execution_count": 14,
   "id": "6ab02aa1",
   "metadata": {},
   "outputs": [
    {
     "name": "stdout",
     "output_type": "stream",
     "text": [
      "Using device: cuda\n"
     ]
    }
   ],
   "source": [
    "\n",
    "## RNN\n",
    "\n",
    "import numpy as np\n",
    "import matplotlib.pyplot as plt\n",
    "import torch\n",
    "import torch.nn as nn\n",
    "import torch.optim as optim\n",
    "from sklearn.preprocessing import MinMaxScaler\n",
    "from sklearn.model_selection import train_test_split\n",
    "from sklearn.metrics import mean_squared_error, mean_absolute_error\n",
    "import math\n",
    "import random\n",
    "import warnings\n",
    "from torch.utils.data import DataLoader\n",
    "from tqdm import tqdm\n",
    "warnings.filterwarnings(\"ignore\")\n",
    "\n",
    "# Set random seed for reproducibility\n",
    "torch.manual_seed(42)\n",
    "np.random.seed(42)\n",
    "random.seed(42)\n",
    "\n",
    "# Check if GPU is available and set device accordingly\n",
    "device = torch.device(\"cuda\" if torch.cuda.is_available() else \"cpu\")\n",
    "print(f\"Using device: {device}\")"
   ]
  },
  {
   "cell_type": "markdown",
   "id": "8f26f2c3",
   "metadata": {},
   "source": [
    "## Data processing"
   ]
  },
  {
   "cell_type": "code",
   "execution_count": 15,
   "id": "2a34c5e6",
   "metadata": {},
   "outputs": [],
   "source": [
    "target_cols = \"Mean Temperature\"\n",
    "feautures_cols = [col for col in df.columns if col != target_cols]\n",
    "\n",
    "target = df[target_cols].values\n",
    "feature = df[feautures_cols].values\n",
    "\n",
    "scaler_features = MinMaxScaler()\n",
    "scaler_target = MinMaxScaler()\n",
    "\n",
    "\n",
    "target_scaled = scaler_target.fit_transform(target.reshape(-1, 1))\n",
    "features_scaled = scaler_features.fit_transform(feature)\n",
    "\n",
    "combined_features = np.concatenate([features_scaled, target_scaled], axis=1)"
   ]
  },
  {
   "cell_type": "code",
   "execution_count": 16,
   "id": "cd184aae",
   "metadata": {},
   "outputs": [],
   "source": [
    "sequence_length = 30\n",
    "def create_dataset(data, target, seq_length=1):\n",
    "    X, y = [], []\n",
    "    for i in range(len(data) - seq_length):\n",
    "        X.append(data[i:(i + seq_length)])\n",
    "        y.append(target[i + seq_length])\n",
    "    return np.array(X), np.array(y)\n",
    "\n",
    "X, y = create_dataset(combined_features, target_scaled, sequence_length)\n",
    "X = torch.tensor(X, dtype=torch.float32).to(device)\n",
    "y = torch.tensor(y, dtype=torch.float32).to(device)\n",
    "\n",
    "X_train, X_test, y_train, y_test = train_test_split(X, y, test_size=0.2, random_state=42, shuffle=False)\n",
    "X_train, X_val, y_train, y_val = train_test_split(X_train, y_train, test_size=0.2, random_state=42, shuffle=False)"
   ]
  },
  {
   "cell_type": "code",
   "execution_count": 17,
   "id": "0cc0de57",
   "metadata": {},
   "outputs": [],
   "source": [
    "class CustomDataset(torch.utils.data.Dataset):\n",
    "    def __init__(self, features, targets):\n",
    "        self.features = features\n",
    "        self.targets = targets\n",
    "\n",
    "    def __len__(self):\n",
    "        return len(self.features)\n",
    "\n",
    "    def __getitem__(self, idx):\n",
    "        return self.features[idx], self.targets[idx]\n",
    "\n",
    "train_dataset = CustomDataset(X_train, y_train)\n",
    "val_dataset = CustomDataset(X_val, y_val)\n",
    "test_dataset = CustomDataset(X_test, y_test)\n",
    "\n",
    "train_loader = DataLoader(train_dataset, batch_size=32, shuffle=True)\n",
    "val_loader = DataLoader(val_dataset, batch_size=32, shuffle=False)\n",
    "test_loader = DataLoader(test_dataset, batch_size=32, shuffle=False)"
   ]
  },
  {
   "cell_type": "markdown",
   "id": "180e77b1",
   "metadata": {},
   "source": [
    "## Model"
   ]
  },
  {
   "cell_type": "code",
   "execution_count": 18,
   "id": "18c05caf",
   "metadata": {},
   "outputs": [],
   "source": [
    "class EnhancedRNNModel(nn.Module):\n",
    "    def __init__(self, input_size, hidden_size, output_size, num_layers=2):\n",
    "        super(EnhancedRNNModel, self).__init__()\n",
    "\n",
    "        # LSTM instead of RNN\n",
    "        self.lstm = nn.LSTM(\n",
    "            input_size=input_size,\n",
    "            hidden_size=hidden_size,\n",
    "            num_layers=num_layers,\n",
    "            batch_first=True,\n",
    "        )\n",
    "\n",
    "        self.fc = nn.Linear(hidden_size, output_size)\n",
    "\n",
    "    def forward(self, x):\n",
    "        # LSTM returns: output, (hidden, cell)\n",
    "        out, _ = self.lstm(x)  # out: (batch, sequence_length, hidden_size)\n",
    "        out = out[:, -1, :]    # Take the last time step: (batch, hidden_size)\n",
    "        out = self.fc(out)     # (batch, output_size)\n",
    "        return out"
   ]
  },
  {
   "cell_type": "code",
   "execution_count": 19,
   "id": "3699168b",
   "metadata": {},
   "outputs": [],
   "source": [
    "def train_model(model, train_loader, val_loader, criterion, optimizer, num_epochs=10, patience=5, device='cpu'):\n",
    "    train_losses = []\n",
    "    val_losses = []\n",
    "    best_val_loss = float('inf')  # Track best validation loss\n",
    "    patience_counter = 0  # Count epochs without improvement\n",
    "\n",
    "    # Wrap the epoch loop with tqdm for a progress bar\n",
    "    epoch_bar = tqdm(range(num_epochs), desc=\"Training Progress\", unit=\"epoch\")\n",
    "    for epoch in epoch_bar:\n",
    "        model.train()\n",
    "        running_loss = 0.0\n",
    "        for features, targets in train_loader:\n",
    "            features, targets = features.to(device), targets.to(device)\n",
    "            optimizer.zero_grad()\n",
    "            outputs = model(features)\n",
    "            loss = criterion(outputs, targets)\n",
    "            loss.backward()\n",
    "            optimizer.step()\n",
    "            running_loss += loss.item()\n",
    "\n",
    "        train_loss = running_loss / len(train_loader)\n",
    "        train_losses.append(train_loss)\n",
    "\n",
    "        model.eval()\n",
    "        val_running_loss = 0.0\n",
    "        with torch.no_grad():\n",
    "            for features, targets in val_loader:\n",
    "                features, targets = features.to(device), targets.to(device)\n",
    "                outputs = model(features)\n",
    "                loss = criterion(outputs, targets)\n",
    "                val_running_loss += loss.item()\n",
    "\n",
    "        val_loss = val_running_loss / len(val_loader)\n",
    "        val_losses.append(val_loss)\n",
    "\n",
    "        # Update epoch progress bar with current losses\n",
    "        epoch_bar.set_postfix({\"Train Loss\": f\"{train_loss:.4f}\", \"Val Loss\": f\"{val_loss:.4f}\"})\n",
    "\n",
    "        # Early stopping check\n",
    "        if val_loss < best_val_loss:\n",
    "            best_val_loss = val_loss\n",
    "            patience_counter = 0  # Reset counter if validation loss improves\n",
    "            # Save the best model\n",
    "            torch.save(model.state_dict(), 'best_lstm_model.pth')\n",
    "        else:\n",
    "            patience_counter += 1\n",
    "            if patience_counter >= patience:\n",
    "                epoch_bar.write(f\"Early stopping triggered after {epoch+1} epochs (no improvement for {patience} epochs).\")\n",
    "                # Load the best model state before exiting\n",
    "                model.load_state_dict(torch.load('best_lstm_model.pth'))\n",
    "                break\n",
    "\n",
    "    # Plot training and validation loss\n",
    "    plt.plot(train_losses, label='Training Loss')\n",
    "    plt.plot(val_losses, label='Validation Loss')\n",
    "    plt.title('RNN Model Loss')\n",
    "    plt.xlabel('Epoch')\n",
    "    plt.ylabel('Loss')\n",
    "    plt.legend()\n",
    "\n",
    "    return train_losses, val_losses"
   ]
  },
  {
   "cell_type": "code",
   "execution_count": 20,
   "id": "9a79160e",
   "metadata": {},
   "outputs": [],
   "source": [
    "def evaluate_model(model, test_loader, scaler_target, device='cpu'):\n",
    "    # Ensure model is on the correct device\n",
    "    model.to(device)\n",
    "    model.eval()\n",
    "    predictions = []\n",
    "    actuals = []\n",
    "\n",
    "    # Collect predictions and actuals\n",
    "    with torch.no_grad():\n",
    "        for features, targets in test_loader:\n",
    "            features, targets = features.to(device), targets.to(device)\n",
    "            outputs = model(features)\n",
    "            predictions.append(outputs.cpu().numpy())\n",
    "            actuals.append(targets.cpu().numpy())\n",
    "\n",
    "    # Concatenate\n",
    "    predictions = np.concatenate(predictions, axis=0)\n",
    "    actuals = np.concatenate(actuals, axis=0)\n",
    "\n",
    "    # Debugging: Print first 5 scaled predictions\n",
    "    print(\"First 5 scaled predictions:\", predictions[:5].flatten())\n",
    "\n",
    "    # Inverse transform\n",
    "    predictions = scaler_target.inverse_transform(predictions)\n",
    "    actuals = scaler_target.inverse_transform(actuals)\n",
    "\n",
    "    # Debugging: Print first 5 inverse-transformed predictions\n",
    "    print(\"First 5 inverse-transformed predictions:\", predictions[:5].flatten())\n",
    "\n",
    "    return predictions, actuals"
   ]
  },
  {
   "cell_type": "code",
   "execution_count": 21,
   "id": "f3875c6c",
   "metadata": {},
   "outputs": [],
   "source": [
    "import os\n",
    "\n",
    "def plot_performance(train_losses, val_losses, predictions, actuals, title = 'LSTM Model Performance'):\n",
    "    plt.figure(figsize=(12, 10))\n",
    "\n",
    "    plt.subplot(3, 1, 1)\n",
    "    plt.plot(train_losses, label='Training Loss')\n",
    "    plt.plot(val_losses, label='Validation Loss')\n",
    "    plt.title('Loss Curves')\n",
    "    plt.xlabel('Epochs')\n",
    "    plt.ylabel('Loss')\n",
    "    plt.legend()\n",
    "\n",
    "    plt.subplot(3, 1, 2)\n",
    "    plt.plot(actuals, label='Actual', color='blue')\n",
    "    plt.plot(predictions, label='Predicted', color='red')\n",
    "    plt.title('LSTM Model Predictions vs Actual')\n",
    "    plt.xlabel('Time Step')\n",
    "    plt.ylabel('Mean Temperature')\n",
    "    plt.legend()\n",
    "\n",
    "    plt.subplot(3, 1, 3)\n",
    "    plt.plot(actuals[-100:], label='Actual', color='blue')\n",
    "    plt.plot(predictions[-100:], label='Predicted', color='red')\n",
    "    plt.title('Zoomed-in LSTM Model Predictions vs Actual')\n",
    "    plt.xlabel('Time Step')\n",
    "    plt.ylabel('Mean Temperature')\n",
    "    plt.legend()\n",
    "\n",
    "    plt.suptitle(title)\n",
    "\n",
    "    path = 'results/'\n",
    "    if not os.path.exists(path):\n",
    "        os.makedirs(path)\n",
    "\n",
    "    plt.savefig(path + title.replace(\" \", \"_\") + '.png')\n",
    "    plt.close()\n"
   ]
  },
  {
   "cell_type": "code",
   "execution_count": 22,
   "id": "94bd4ef7",
   "metadata": {},
   "outputs": [],
   "source": [
    "def calculate_metrics(predictions, actuals):\n",
    "    mse = mean_squared_error(actuals, predictions)\n",
    "    rmse = math.sqrt(mse)\n",
    "    mae = mean_absolute_error(actuals, predictions)\n",
    "\n",
    "    print(f\"RMSE: {rmse:.4f}\")\n",
    "    print(f\"MAE: {mae:.4f}\")\n",
    "\n",
    "    return rmse, mae"
   ]
  },
  {
   "cell_type": "markdown",
   "id": "f2b77e1b",
   "metadata": {},
   "source": [
    "## Check the best parameter"
   ]
  },
  {
   "cell_type": "code",
   "execution_count": 24,
   "id": "9feaa752",
   "metadata": {},
   "outputs": [
    {
     "name": "stdout",
     "output_type": "stream",
     "text": [
      "Training with Seq: 10, Hidden: 32, Layers: 1, LR: 0.001\n"
     ]
    },
    {
     "name": "stderr",
     "output_type": "stream",
     "text": [
      "Training Progress:   0%|          | 0/100 [00:00<?, ?epoch/s]"
     ]
    },
    {
     "name": "stderr",
     "output_type": "stream",
     "text": [
      "Training Progress:  54%|█████▍    | 54/100 [00:25<00:21,  2.09epoch/s, Train Loss=0.0017, Val Loss=0.0020]\n"
     ]
    },
    {
     "name": "stdout",
     "output_type": "stream",
     "text": [
      "Early stopping triggered after 55 epochs (no improvement for 10 epochs).\n",
      "First 5 scaled predictions: [0.4559149  0.51981056 0.29428807 0.43507558 0.4597643 ]\n",
      "First 5 inverse-transformed predictions: [17.43766  19.19479  12.992922 16.864578 17.543518]\n",
      "RMSE: 1.2015\n",
      "MAE: 0.9411\n",
      "RMSE: 1.2015085136280215, MAE: 0.9411352872848511\n",
      "--------------------------------------------------\n",
      "Training with Seq: 10, Hidden: 32, Layers: 2, LR: 0.001\n"
     ]
    },
    {
     "name": "stderr",
     "output_type": "stream",
     "text": [
      "Training Progress:  37%|███▋      | 37/100 [00:20<00:34,  1.81epoch/s, Train Loss=0.0018, Val Loss=0.0021]\n"
     ]
    },
    {
     "name": "stdout",
     "output_type": "stream",
     "text": [
      "Early stopping triggered after 38 epochs (no improvement for 10 epochs).\n",
      "First 5 scaled predictions: [0.47308618 0.521487   0.31292808 0.40940213 0.46631244]\n",
      "First 5 inverse-transformed predictions: [17.90987  19.240892 13.505523 16.15856  17.72359 ]\n",
      "RMSE: 1.1780\n",
      "MAE: 0.9141\n",
      "RMSE: 1.1780316181764656, MAE: 0.9141008853912354\n",
      "--------------------------------------------------\n",
      "Training with Seq: 10, Hidden: 32, Layers: 3, LR: 0.001\n"
     ]
    },
    {
     "name": "stderr",
     "output_type": "stream",
     "text": [
      "Training Progress:  30%|███       | 30/100 [00:17<00:41,  1.68epoch/s, Train Loss=0.0018, Val Loss=0.0021]\n"
     ]
    },
    {
     "name": "stdout",
     "output_type": "stream",
     "text": [
      "Early stopping triggered after 31 epochs (no improvement for 10 epochs).\n",
      "First 5 scaled predictions: [0.457006   0.5118004  0.28903943 0.4140491  0.46518475]\n",
      "First 5 inverse-transformed predictions: [17.467665 18.974512 12.848585 16.28635  17.692581]\n",
      "RMSE: 1.2680\n",
      "MAE: 0.9905\n",
      "RMSE: 1.268024007612086, MAE: 0.9905071258544922\n",
      "--------------------------------------------------\n",
      "Training with Seq: 10, Hidden: 64, Layers: 1, LR: 0.001\n"
     ]
    },
    {
     "name": "stderr",
     "output_type": "stream",
     "text": [
      "Training Progress:  56%|█████▌    | 56/100 [00:26<00:20,  2.11epoch/s, Train Loss=0.0016, Val Loss=0.0022]\n"
     ]
    },
    {
     "name": "stdout",
     "output_type": "stream",
     "text": [
      "Early stopping triggered after 57 epochs (no improvement for 10 epochs).\n",
      "First 5 scaled predictions: [0.47671157 0.52779216 0.28887475 0.45123062 0.4574426 ]\n",
      "First 5 inverse-transformed predictions: [18.00957  19.414284 12.844056 17.308842 17.479671]\n",
      "RMSE: 1.2179\n",
      "MAE: 0.9746\n",
      "RMSE: 1.2178605575417765, MAE: 0.9746178388595581\n",
      "--------------------------------------------------\n",
      "Training with Seq: 10, Hidden: 64, Layers: 2, LR: 0.001\n"
     ]
    },
    {
     "name": "stderr",
     "output_type": "stream",
     "text": [
      "Training Progress:  50%|█████     | 50/100 [00:26<00:26,  1.89epoch/s, Train Loss=0.0016, Val Loss=0.0020]\n"
     ]
    },
    {
     "name": "stdout",
     "output_type": "stream",
     "text": [
      "Early stopping triggered after 51 epochs (no improvement for 10 epochs).\n",
      "First 5 scaled predictions: [0.45736557 0.5127682  0.29740602 0.43732572 0.45154232]\n",
      "First 5 inverse-transformed predictions: [17.477554 19.001125 13.078666 16.926458 17.317413]\n",
      "RMSE: 1.2221\n",
      "MAE: 0.9622\n",
      "RMSE: 1.2221398771367047, MAE: 0.9622265696525574\n",
      "--------------------------------------------------\n",
      "Training with Seq: 10, Hidden: 64, Layers: 3, LR: 0.001\n"
     ]
    },
    {
     "name": "stderr",
     "output_type": "stream",
     "text": [
      "Training Progress:  41%|████      | 41/100 [00:25<00:36,  1.63epoch/s, Train Loss=0.0016, Val Loss=0.0020]\n"
     ]
    },
    {
     "name": "stdout",
     "output_type": "stream",
     "text": [
      "Early stopping triggered after 42 epochs (no improvement for 10 epochs).\n",
      "First 5 scaled predictions: [0.46469337 0.49482304 0.29598418 0.43473905 0.45431852]\n",
      "First 5 inverse-transformed predictions: [17.679068 18.507633 13.039565 16.855324 17.393759]\n",
      "RMSE: 1.2128\n",
      "MAE: 0.9605\n",
      "RMSE: 1.2128187271897963, MAE: 0.9604809284210205\n",
      "--------------------------------------------------\n",
      "Training with Seq: 10, Hidden: 128, Layers: 1, LR: 0.001\n"
     ]
    },
    {
     "name": "stderr",
     "output_type": "stream",
     "text": [
      "Training Progress:  41%|████      | 41/100 [00:20<00:29,  1.99epoch/s, Train Loss=0.0017, Val Loss=0.0019]\n"
     ]
    },
    {
     "name": "stdout",
     "output_type": "stream",
     "text": [
      "Early stopping triggered after 42 epochs (no improvement for 10 epochs).\n",
      "First 5 scaled predictions: [0.48225826 0.5270203  0.29753628 0.44918457 0.45505685]\n",
      "First 5 inverse-transformed predictions: [18.162102 19.393059 13.082248 17.252575 17.414064]\n",
      "RMSE: 1.1720\n",
      "MAE: 0.9264\n",
      "RMSE: 1.1720175592812638, MAE: 0.9264329075813293\n",
      "--------------------------------------------------\n",
      "Training with Seq: 10, Hidden: 128, Layers: 2, LR: 0.001\n"
     ]
    },
    {
     "name": "stderr",
     "output_type": "stream",
     "text": [
      "Training Progress:  43%|████▎     | 43/100 [00:24<00:32,  1.78epoch/s, Train Loss=0.0016, Val Loss=0.0025]\n"
     ]
    },
    {
     "name": "stdout",
     "output_type": "stream",
     "text": [
      "Early stopping triggered after 44 epochs (no improvement for 10 epochs).\n",
      "First 5 scaled predictions: [0.46563098 0.5030095  0.29139927 0.42806667 0.48140964]\n",
      "First 5 inverse-transformed predictions: [17.704851 18.732761 12.91348  16.671833 18.138765]\n",
      "RMSE: 1.2415\n",
      "MAE: 0.9634\n",
      "RMSE: 1.2414778595731144, MAE: 0.9634000062942505\n",
      "--------------------------------------------------\n",
      "Training with Seq: 10, Hidden: 128, Layers: 3, LR: 0.001\n"
     ]
    },
    {
     "name": "stderr",
     "output_type": "stream",
     "text": [
      "Training Progress:  32%|███▏      | 32/100 [00:20<00:42,  1.59epoch/s, Train Loss=0.0018, Val Loss=0.0021]\n"
     ]
    },
    {
     "name": "stdout",
     "output_type": "stream",
     "text": [
      "Early stopping triggered after 33 epochs (no improvement for 10 epochs).\n",
      "First 5 scaled predictions: [0.46892074 0.5074458  0.29725465 0.44259512 0.45987967]\n",
      "First 5 inverse-transformed predictions: [17.79532  18.85476  13.074503 17.071365 17.54669 ]\n",
      "RMSE: 1.1871\n",
      "MAE: 0.8992\n",
      "RMSE: 1.1871259501769629, MAE: 0.8991599678993225\n",
      "--------------------------------------------------\n",
      "Training with Seq: 10, Hidden: 256, Layers: 1, LR: 0.001\n"
     ]
    },
    {
     "name": "stderr",
     "output_type": "stream",
     "text": [
      "Training Progress:  29%|██▉       | 29/100 [00:18<00:45,  1.57epoch/s, Train Loss=0.0018, Val Loss=0.0022]\n"
     ]
    },
    {
     "name": "stdout",
     "output_type": "stream",
     "text": [
      "Early stopping triggered after 30 epochs (no improvement for 10 epochs).\n",
      "First 5 scaled predictions: [0.47099552 0.51315105 0.28437647 0.4374874  0.4625422 ]\n",
      "First 5 inverse-transformed predictions: [17.852377 19.011654 12.720353 16.930902 17.61991 ]\n",
      "RMSE: 1.2770\n",
      "MAE: 1.0311\n",
      "RMSE: 1.2770159939576118, MAE: 1.0311280488967896\n",
      "--------------------------------------------------\n",
      "Training with Seq: 10, Hidden: 256, Layers: 2, LR: 0.001\n"
     ]
    },
    {
     "name": "stderr",
     "output_type": "stream",
     "text": [
      "Training Progress:  39%|███▉      | 39/100 [00:33<00:52,  1.16epoch/s, Train Loss=0.0016, Val Loss=0.0020]\n"
     ]
    },
    {
     "name": "stdout",
     "output_type": "stream",
     "text": [
      "Early stopping triggered after 40 epochs (no improvement for 10 epochs).\n",
      "First 5 scaled predictions: [0.46323526 0.5189751  0.29368538 0.42179215 0.46589088]\n",
      "First 5 inverse-transformed predictions: [17.63897  19.171814 12.976348 16.499285 17.712   ]\n",
      "RMSE: 1.2340\n",
      "MAE: 0.9657\n",
      "RMSE: 1.23397980170204, MAE: 0.9657092094421387\n",
      "--------------------------------------------------\n",
      "Training with Seq: 10, Hidden: 256, Layers: 3, LR: 0.001\n"
     ]
    },
    {
     "name": "stderr",
     "output_type": "stream",
     "text": [
      "Training Progress:  32%|███▏      | 32/100 [00:33<01:12,  1.06s/epoch, Train Loss=0.0018, Val Loss=0.0022]\n"
     ]
    },
    {
     "name": "stdout",
     "output_type": "stream",
     "text": [
      "Early stopping triggered after 33 epochs (no improvement for 10 epochs).\n",
      "First 5 scaled predictions: [0.46001032 0.52190685 0.30413517 0.42905155 0.45951283]\n",
      "First 5 inverse-transformed predictions: [17.550283 19.25244  13.263718 16.698917 17.536604]\n",
      "RMSE: 1.1863\n",
      "MAE: 0.9118\n",
      "RMSE: 1.1863194168570077, MAE: 0.911805272102356\n",
      "--------------------------------------------------\n",
      "Training with Seq: 20, Hidden: 32, Layers: 1, LR: 0.001\n"
     ]
    },
    {
     "name": "stderr",
     "output_type": "stream",
     "text": [
      "Training Progress:  51%|█████     | 51/100 [00:25<00:24,  2.04epoch/s, Train Loss=0.0017, Val Loss=0.0020]\n"
     ]
    },
    {
     "name": "stdout",
     "output_type": "stream",
     "text": [
      "Early stopping triggered after 52 epochs (no improvement for 10 epochs).\n",
      "First 5 scaled predictions: [0.3043548  0.431311   0.4615091  0.52113205 0.57890755]\n",
      "First 5 inverse-transformed predictions: [13.269757 16.761053 17.591501 19.231133 20.819958]\n",
      "RMSE: 1.1952\n",
      "MAE: 0.9214\n",
      "RMSE: 1.1951850374365294, MAE: 0.921416699886322\n",
      "--------------------------------------------------\n",
      "Training with Seq: 20, Hidden: 32, Layers: 2, LR: 0.001\n"
     ]
    },
    {
     "name": "stderr",
     "output_type": "stream",
     "text": [
      "Training Progress:  28%|██▊       | 28/100 [00:16<00:41,  1.74epoch/s, Train Loss=0.0018, Val Loss=0.0022]\n"
     ]
    },
    {
     "name": "stdout",
     "output_type": "stream",
     "text": [
      "Early stopping triggered after 29 epochs (no improvement for 10 epochs).\n",
      "First 5 scaled predictions: [0.2781086  0.44709748 0.46178323 0.5296621  0.5701108 ]\n",
      "First 5 inverse-transformed predictions: [12.547987 17.19518  17.59904  19.465708 20.578047]\n",
      "RMSE: 1.2288\n",
      "MAE: 0.9733\n",
      "RMSE: 1.2287808421582405, MAE: 0.9733428359031677\n",
      "--------------------------------------------------\n",
      "Training with Seq: 20, Hidden: 32, Layers: 3, LR: 0.001\n"
     ]
    },
    {
     "name": "stderr",
     "output_type": "stream",
     "text": [
      "Training Progress:  51%|█████     | 51/100 [00:31<00:29,  1.64epoch/s, Train Loss=0.0017, Val Loss=0.0021]\n"
     ]
    },
    {
     "name": "stdout",
     "output_type": "stream",
     "text": [
      "Early stopping triggered after 52 epochs (no improvement for 10 epochs).\n",
      "First 5 scaled predictions: [0.30928594 0.4144652  0.47230142 0.53545934 0.59041476]\n",
      "First 5 inverse-transformed predictions: [13.405363 16.297792 17.888288 19.625132 21.136406]\n",
      "RMSE: 1.2612\n",
      "MAE: 1.0043\n",
      "RMSE: 1.261168415996121, MAE: 1.0042544603347778\n",
      "--------------------------------------------------\n",
      "Training with Seq: 20, Hidden: 64, Layers: 1, LR: 0.001\n"
     ]
    },
    {
     "name": "stderr",
     "output_type": "stream",
     "text": [
      "Training Progress:  37%|███▋      | 37/100 [00:18<00:30,  2.04epoch/s, Train Loss=0.0018, Val Loss=0.0025]\n"
     ]
    },
    {
     "name": "stdout",
     "output_type": "stream",
     "text": [
      "Early stopping triggered after 38 epochs (no improvement for 10 epochs).\n",
      "First 5 scaled predictions: [0.29769656 0.43525568 0.4658138  0.52163124 0.5775307 ]\n",
      "First 5 inverse-transformed predictions: [13.086656 16.86953  17.709879 19.24486  20.782093]\n",
      "RMSE: 1.2235\n",
      "MAE: 0.9548\n",
      "RMSE: 1.223468644682353, MAE: 0.954779326915741\n",
      "--------------------------------------------------\n",
      "Training with Seq: 20, Hidden: 64, Layers: 2, LR: 0.001\n"
     ]
    },
    {
     "name": "stderr",
     "output_type": "stream",
     "text": [
      "Training Progress:  30%|███       | 30/100 [00:16<00:38,  1.81epoch/s, Train Loss=0.0018, Val Loss=0.0020]\n"
     ]
    },
    {
     "name": "stdout",
     "output_type": "stream",
     "text": [
      "Early stopping triggered after 31 epochs (no improvement for 10 epochs).\n",
      "First 5 scaled predictions: [0.29636222 0.44007978 0.46679977 0.52800494 0.57337385]\n",
      "First 5 inverse-transformed predictions: [13.049961 17.002193 17.736994 19.420135 20.667782]\n",
      "RMSE: 1.2089\n",
      "MAE: 0.9610\n",
      "RMSE: 1.2088514510681252, MAE: 0.9609830379486084\n",
      "--------------------------------------------------\n",
      "Training with Seq: 20, Hidden: 64, Layers: 3, LR: 0.001\n"
     ]
    },
    {
     "name": "stderr",
     "output_type": "stream",
     "text": [
      "Training Progress:  33%|███▎      | 33/100 [00:20<00:41,  1.62epoch/s, Train Loss=0.0017, Val Loss=0.0023]\n"
     ]
    },
    {
     "name": "stdout",
     "output_type": "stream",
     "text": [
      "Early stopping triggered after 34 epochs (no improvement for 10 epochs).\n",
      "First 5 scaled predictions: [0.2862897  0.4434632  0.47453624 0.54879296 0.58598566]\n",
      "First 5 inverse-transformed predictions: [12.772966 17.095238 17.949747 19.991806 21.014606]\n",
      "RMSE: 1.2217\n",
      "MAE: 0.9537\n",
      "RMSE: 1.2217238896192668, MAE: 0.9536575078964233\n",
      "--------------------------------------------------\n",
      "Training with Seq: 20, Hidden: 128, Layers: 1, LR: 0.001\n"
     ]
    },
    {
     "name": "stderr",
     "output_type": "stream",
     "text": [
      "Training Progress:  54%|█████▍    | 54/100 [00:26<00:22,  2.04epoch/s, Train Loss=0.0016, Val Loss=0.0025]\n"
     ]
    },
    {
     "name": "stdout",
     "output_type": "stream",
     "text": [
      "Early stopping triggered after 55 epochs (no improvement for 10 epochs).\n",
      "First 5 scaled predictions: [0.31058317 0.45198825 0.45670632 0.5326686  0.57837856]\n",
      "First 5 inverse-transformed predictions: [13.441037 17.329676 17.459423 19.548386 20.80541 ]\n",
      "RMSE: 1.1847\n",
      "MAE: 0.9135\n",
      "RMSE: 1.1846529309927825, MAE: 0.9135364294052124\n",
      "--------------------------------------------------\n",
      "Training with Seq: 20, Hidden: 128, Layers: 2, LR: 0.001\n"
     ]
    },
    {
     "name": "stderr",
     "output_type": "stream",
     "text": [
      "Training Progress:  40%|████      | 40/100 [00:23<00:34,  1.73epoch/s, Train Loss=0.0017, Val Loss=0.0023]\n"
     ]
    },
    {
     "name": "stdout",
     "output_type": "stream",
     "text": [
      "Early stopping triggered after 41 epochs (no improvement for 10 epochs).\n",
      "First 5 scaled predictions: [0.26122752 0.43630004 0.46340665 0.53929806 0.5731459 ]\n",
      "First 5 inverse-transformed predictions: [12.083757 16.89825  17.643682 19.730698 20.661512]\n",
      "RMSE: 1.2915\n",
      "MAE: 1.0336\n",
      "RMSE: 1.29150450621737, MAE: 1.033583402633667\n",
      "--------------------------------------------------\n",
      "Training with Seq: 20, Hidden: 128, Layers: 3, LR: 0.001\n"
     ]
    },
    {
     "name": "stderr",
     "output_type": "stream",
     "text": [
      "Training Progress:  33%|███▎      | 33/100 [00:20<00:41,  1.62epoch/s, Train Loss=0.0017, Val Loss=0.0023]\n"
     ]
    },
    {
     "name": "stdout",
     "output_type": "stream",
     "text": [
      "Early stopping triggered after 34 epochs (no improvement for 10 epochs).\n",
      "First 5 scaled predictions: [0.29436976 0.4357659  0.46135473 0.5351439  0.5793724 ]\n",
      "First 5 inverse-transformed predictions: [12.995169 16.883562 17.587255 19.616457 20.83274 ]\n",
      "RMSE: 1.2392\n",
      "MAE: 0.9869\n",
      "RMSE: 1.2392123118555474, MAE: 0.986900806427002\n",
      "--------------------------------------------------\n",
      "Training with Seq: 20, Hidden: 256, Layers: 1, LR: 0.001\n"
     ]
    },
    {
     "name": "stderr",
     "output_type": "stream",
     "text": [
      "Training Progress:  33%|███▎      | 33/100 [00:24<00:50,  1.33epoch/s, Train Loss=0.0017, Val Loss=0.0021]\n"
     ]
    },
    {
     "name": "stdout",
     "output_type": "stream",
     "text": [
      "Early stopping triggered after 34 epochs (no improvement for 10 epochs).\n",
      "First 5 scaled predictions: [0.28445435 0.4361483  0.46566874 0.5337596  0.59159493]\n",
      "First 5 inverse-transformed predictions: [12.722495 16.894077 17.70589  19.578388 21.168861]\n",
      "RMSE: 1.2197\n",
      "MAE: 0.9490\n",
      "RMSE: 1.2196709503372447, MAE: 0.9489541053771973\n",
      "--------------------------------------------------\n",
      "Training with Seq: 20, Hidden: 256, Layers: 2, LR: 0.001\n"
     ]
    },
    {
     "name": "stderr",
     "output_type": "stream",
     "text": [
      "Training Progress:  36%|███▌      | 36/100 [00:37<01:07,  1.05s/epoch, Train Loss=0.0017, Val Loss=0.0022]\n"
     ]
    },
    {
     "name": "stdout",
     "output_type": "stream",
     "text": [
      "Early stopping triggered after 37 epochs (no improvement for 10 epochs).\n",
      "First 5 scaled predictions: [0.28087026 0.43849474 0.46895683 0.5381811  0.58543986]\n",
      "First 5 inverse-transformed predictions: [12.623932 16.958605 17.796312 19.699982 20.999596]\n",
      "RMSE: 1.2490\n",
      "MAE: 0.9672\n",
      "RMSE: 1.249011650357913, MAE: 0.9671972990036011\n",
      "--------------------------------------------------\n",
      "Training with Seq: 20, Hidden: 256, Layers: 3, LR: 0.001\n"
     ]
    },
    {
     "name": "stderr",
     "output_type": "stream",
     "text": [
      "Training Progress:  40%|████      | 40/100 [00:54<01:21,  1.35s/epoch, Train Loss=0.0016, Val Loss=0.0026]\n"
     ]
    },
    {
     "name": "stdout",
     "output_type": "stream",
     "text": [
      "Early stopping triggered after 41 epochs (no improvement for 10 epochs).\n",
      "First 5 scaled predictions: [0.30194953 0.42631537 0.45853937 0.5252059  0.57143384]\n",
      "First 5 inverse-transformed predictions: [13.203612 16.623672 17.509832 19.343163 20.614431]\n",
      "RMSE: 1.2719\n",
      "MAE: 1.0169\n",
      "RMSE: 1.2718931791988675, MAE: 1.016945242881775\n",
      "--------------------------------------------------\n",
      "Training with Seq: 30, Hidden: 32, Layers: 1, LR: 0.001\n"
     ]
    },
    {
     "name": "stderr",
     "output_type": "stream",
     "text": [
      "Training Progress:  61%|██████    | 61/100 [00:28<00:18,  2.15epoch/s, Train Loss=0.0017, Val Loss=0.0020]\n"
     ]
    },
    {
     "name": "stdout",
     "output_type": "stream",
     "text": [
      "Early stopping triggered after 62 epochs (no improvement for 10 epochs).\n",
      "First 5 scaled predictions: [0.46396962 0.5351074  0.5763445  0.61779916 0.551279  ]\n",
      "First 5 inverse-transformed predictions: [17.659164 19.615454 20.749474 21.889477 20.060173]\n",
      "RMSE: 1.1895\n",
      "MAE: 0.9322\n",
      "RMSE: 1.1895383606987173, MAE: 0.9322165250778198\n",
      "--------------------------------------------------\n",
      "Training with Seq: 30, Hidden: 32, Layers: 2, LR: 0.001\n"
     ]
    },
    {
     "name": "stderr",
     "output_type": "stream",
     "text": [
      "Training Progress:  57%|█████▋    | 57/100 [00:30<00:22,  1.90epoch/s, Train Loss=0.0016, Val Loss=0.0021]\n"
     ]
    },
    {
     "name": "stdout",
     "output_type": "stream",
     "text": [
      "Early stopping triggered after 58 epochs (no improvement for 10 epochs).\n",
      "First 5 scaled predictions: [0.48240578 0.5360816  0.5661225  0.62214106 0.5651866 ]\n",
      "First 5 inverse-transformed predictions: [18.166159 19.642244 20.468369 22.008879 20.442633]\n",
      "RMSE: 1.1442\n",
      "MAE: 0.8834\n",
      "RMSE: 1.1441609170819709, MAE: 0.8834178447723389\n",
      "--------------------------------------------------\n",
      "Training with Seq: 30, Hidden: 32, Layers: 3, LR: 0.001\n"
     ]
    },
    {
     "name": "stderr",
     "output_type": "stream",
     "text": [
      "Training Progress:  41%|████      | 41/100 [00:24<00:35,  1.67epoch/s, Train Loss=0.0017, Val Loss=0.0020]\n"
     ]
    },
    {
     "name": "stdout",
     "output_type": "stream",
     "text": [
      "Early stopping triggered after 42 epochs (no improvement for 10 epochs).\n",
      "First 5 scaled predictions: [0.45087445 0.52991915 0.56458956 0.60976064 0.5585266 ]\n",
      "First 5 inverse-transformed predictions: [17.299047 19.472776 20.426212 21.668417 20.259481]\n",
      "RMSE: 1.1902\n",
      "MAE: 0.9300\n",
      "RMSE: 1.1902034503861754, MAE: 0.9300075173377991\n",
      "--------------------------------------------------\n",
      "Training with Seq: 30, Hidden: 64, Layers: 1, LR: 0.001\n"
     ]
    },
    {
     "name": "stderr",
     "output_type": "stream",
     "text": [
      "Training Progress:  46%|████▌     | 46/100 [00:21<00:25,  2.10epoch/s, Train Loss=0.0017, Val Loss=0.0020]\n"
     ]
    },
    {
     "name": "stdout",
     "output_type": "stream",
     "text": [
      "Early stopping triggered after 47 epochs (no improvement for 10 epochs).\n",
      "First 5 scaled predictions: [0.46765894 0.52855057 0.57555306 0.61748695 0.5496616 ]\n",
      "First 5 inverse-transformed predictions: [17.76062  19.43514  20.727709 21.880892 20.015694]\n",
      "RMSE: 1.1900\n",
      "MAE: 0.9237\n",
      "RMSE: 1.1899911950691235, MAE: 0.9237327575683594\n",
      "--------------------------------------------------\n",
      "Training with Seq: 30, Hidden: 64, Layers: 2, LR: 0.001\n"
     ]
    },
    {
     "name": "stderr",
     "output_type": "stream",
     "text": [
      "Training Progress:  42%|████▏     | 42/100 [00:22<00:30,  1.88epoch/s, Train Loss=0.0017, Val Loss=0.0022]\n"
     ]
    },
    {
     "name": "stdout",
     "output_type": "stream",
     "text": [
      "Early stopping triggered after 43 epochs (no improvement for 10 epochs).\n",
      "First 5 scaled predictions: [0.4582286 0.5479337 0.5859371 0.6292959 0.5731679]\n",
      "First 5 inverse-transformed predictions: [17.501286 19.968178 21.01327  22.205637 20.662119]\n",
      "RMSE: 1.2909\n",
      "MAE: 1.0275\n",
      "RMSE: 1.2908583183078772, MAE: 1.0274658203125\n",
      "--------------------------------------------------\n",
      "Training with Seq: 30, Hidden: 64, Layers: 3, LR: 0.001\n"
     ]
    },
    {
     "name": "stderr",
     "output_type": "stream",
     "text": [
      "Training Progress:  42%|████▏     | 42/100 [00:24<00:34,  1.68epoch/s, Train Loss=0.0017, Val Loss=0.0024]\n"
     ]
    },
    {
     "name": "stdout",
     "output_type": "stream",
     "text": [
      "Early stopping triggered after 43 epochs (no improvement for 10 epochs).\n",
      "First 5 scaled predictions: [0.43941152 0.5119171  0.5640826  0.61215127 0.5599119 ]\n",
      "First 5 inverse-transformed predictions: [16.983816 18.97772  20.412271 21.73416  20.297577]\n",
      "RMSE: 1.3050\n",
      "MAE: 1.0601\n",
      "RMSE: 1.3049977556114336, MAE: 1.060084581375122\n",
      "--------------------------------------------------\n",
      "Training with Seq: 30, Hidden: 128, Layers: 1, LR: 0.001\n"
     ]
    },
    {
     "name": "stderr",
     "output_type": "stream",
     "text": [
      "Training Progress:  48%|████▊     | 48/100 [00:23<00:25,  2.07epoch/s, Train Loss=0.0016, Val Loss=0.0022]\n"
     ]
    },
    {
     "name": "stdout",
     "output_type": "stream",
     "text": [
      "Early stopping triggered after 49 epochs (no improvement for 10 epochs).\n",
      "First 5 scaled predictions: [0.4472884  0.51968056 0.57198024 0.61245394 0.55792445]\n",
      "First 5 inverse-transformed predictions: [17.200432 19.191216 20.629457 21.742483 20.242922]\n",
      "RMSE: 1.2085\n",
      "MAE: 0.9468\n",
      "RMSE: 1.208472419275684, MAE: 0.9468292593955994\n",
      "--------------------------------------------------\n",
      "Training with Seq: 30, Hidden: 128, Layers: 2, LR: 0.001\n"
     ]
    },
    {
     "name": "stderr",
     "output_type": "stream",
     "text": [
      "Training Progress:  37%|███▋      | 37/100 [00:21<00:35,  1.76epoch/s, Train Loss=0.0017, Val Loss=0.0021]\n"
     ]
    },
    {
     "name": "stdout",
     "output_type": "stream",
     "text": [
      "Early stopping triggered after 38 epochs (no improvement for 10 epochs).\n",
      "First 5 scaled predictions: [0.46289042 0.5304351  0.5774107  0.61037576 0.547714  ]\n",
      "First 5 inverse-transformed predictions: [17.629486 19.486965 20.778795 21.685333 19.962135]\n",
      "RMSE: 1.3049\n",
      "MAE: 1.0460\n",
      "RMSE: 1.3048527778511432, MAE: 1.0460357666015625\n",
      "--------------------------------------------------\n",
      "Training with Seq: 30, Hidden: 128, Layers: 3, LR: 0.001\n"
     ]
    },
    {
     "name": "stderr",
     "output_type": "stream",
     "text": [
      "Training Progress:  24%|██▍       | 24/100 [00:15<00:48,  1.56epoch/s, Train Loss=0.0018, Val Loss=0.0025]\n"
     ]
    },
    {
     "name": "stdout",
     "output_type": "stream",
     "text": [
      "Early stopping triggered after 25 epochs (no improvement for 10 epochs).\n",
      "First 5 scaled predictions: [0.47403014 0.5321693  0.58007234 0.6161497  0.5429854 ]\n",
      "First 5 inverse-transformed predictions: [17.93583  19.534655 20.85199  21.844118 19.832098]\n",
      "RMSE: 1.3049\n",
      "MAE: 1.0457\n",
      "RMSE: 1.304921751636115, MAE: 1.0457274913787842\n",
      "--------------------------------------------------\n",
      "Training with Seq: 30, Hidden: 256, Layers: 1, LR: 0.001\n"
     ]
    },
    {
     "name": "stderr",
     "output_type": "stream",
     "text": [
      "Training Progress:  44%|████▍     | 44/100 [00:39<00:49,  1.13epoch/s, Train Loss=0.0016, Val Loss=0.0021]\n"
     ]
    },
    {
     "name": "stdout",
     "output_type": "stream",
     "text": [
      "Early stopping triggered after 45 epochs (no improvement for 10 epochs).\n",
      "First 5 scaled predictions: [0.47360027 0.53885007 0.58971745 0.6251491  0.561695  ]\n",
      "First 5 inverse-transformed predictions: [17.924007 19.718378 21.11723  22.0916   20.346613]\n",
      "RMSE: 1.1666\n",
      "MAE: 0.8962\n",
      "RMSE: 1.1666071172684493, MAE: 0.8962065577507019\n",
      "--------------------------------------------------\n",
      "Training with Seq: 30, Hidden: 256, Layers: 2, LR: 0.001\n"
     ]
    },
    {
     "name": "stderr",
     "output_type": "stream",
     "text": [
      "Training Progress:  27%|██▋       | 27/100 [00:35<01:36,  1.32s/epoch, Train Loss=0.0018, Val Loss=0.0022]\n"
     ]
    },
    {
     "name": "stdout",
     "output_type": "stream",
     "text": [
      "Early stopping triggered after 28 epochs (no improvement for 10 epochs).\n",
      "First 5 scaled predictions: [0.46823245 0.5378333  0.58171934 0.62296253 0.56692576]\n",
      "First 5 inverse-transformed predictions: [17.776392 19.690414 20.897282 22.03147  20.49046 ]\n",
      "RMSE: 1.2234\n",
      "MAE: 0.9766\n",
      "RMSE: 1.2233863089071797, MAE: 0.97661292552948\n",
      "--------------------------------------------------\n",
      "Training with Seq: 30, Hidden: 256, Layers: 3, LR: 0.001\n"
     ]
    },
    {
     "name": "stderr",
     "output_type": "stream",
     "text": [
      "Training Progress:  38%|███▊      | 38/100 [01:05<01:46,  1.72s/epoch, Train Loss=0.0017, Val Loss=0.0022]\n"
     ]
    },
    {
     "name": "stdout",
     "output_type": "stream",
     "text": [
      "Early stopping triggered after 39 epochs (no improvement for 10 epochs).\n",
      "First 5 scaled predictions: [0.46974087 0.54303575 0.58248425 0.63052976 0.576608  ]\n",
      "First 5 inverse-transformed predictions: [17.817875 19.833483 20.918318 22.239569 20.75672 ]\n",
      "RMSE: 1.2145\n",
      "MAE: 0.9420\n",
      "RMSE: 1.2144979493809769, MAE: 0.9420183897018433\n",
      "--------------------------------------------------\n"
     ]
    },
    {
     "data": {
      "image/png": "[encoded data removed]",
      "text/plain": [
       "<Figure size 640x480 with 1 Axes>"
      ]
     },
     "metadata": {},
     "output_type": "display_data"
    }
   ],
   "source": [
    "sequence_lengths = [10, 20, 30]\n",
    "hidden_sizes = [32, 64, 128, 256]\n",
    "num_layers = [1, 2, 3]\n",
    "learning_rates = [0.001]\n",
    "\n",
    "def all_in_one(features, target, sequence_length, hidden_size, num_layers, learning_rate):\n",
    "\n",
    "    X, y = create_dataset(features, target, sequence_length)\n",
    "    X = torch.tensor(X, dtype=torch.float32).to(device)\n",
    "    y = torch.tensor(y, dtype=torch.float32).to(device)\n",
    "\n",
    "    X_train, X_test, y_train, y_test = train_test_split(X, y, test_size=0.2, random_state=42, shuffle=False)\n",
    "    X_train, X_val, y_train, y_val = train_test_split(X_train, y_train, test_size=0.2, random_state=42, shuffle=False)\n",
    "\n",
    "    train_dataset = CustomDataset(X_train, y_train)\n",
    "    val_dataset = CustomDataset(X_val, y_val)\n",
    "    test_dataset = CustomDataset(X_test, y_test)\n",
    "\n",
    "    train_loader = DataLoader(train_dataset, batch_size=32, shuffle=True)\n",
    "    val_loader = DataLoader(val_dataset, batch_size=32, shuffle=False)\n",
    "    test_loader = DataLoader(test_dataset, batch_size=32, shuffle=False)\n",
    "\n",
    "    model = EnhancedRNNModel(input_size=X.shape[2], hidden_size=hidden_size, output_size=1, num_layers=num_layers).to(device)\n",
    "    criterion = nn.MSELoss()\n",
    "    optimizer = optim.Adam(model.parameters(), lr=learning_rate)\n",
    "\n",
    "    train_losses, val_losses = train_model(model, train_loader, val_loader, criterion, optimizer, num_epochs=100, patience=10, device=device)\n",
    "    predictions, actuals = evaluate_model(model, test_loader, scaler_target)\n",
    "\n",
    "    plot_performance(train_losses, val_losses, predictions, actuals, title = f'LSTM_Model_Seq_{sequence_length}_Hidden_{hidden_size}_Layers_{num_layers}_LR_{learning_rate}')\n",
    "    rmse, mae = calculate_metrics(predictions, actuals)\n",
    "\n",
    "    return rmse, mae\n",
    "\n",
    "# Implementing grid search for hyperparameter tuning\n",
    "results = []\n",
    "for seq_len in sequence_lengths:\n",
    "    for hidden_size in hidden_sizes:\n",
    "        for num_layer in num_layers:\n",
    "            for lr in learning_rates:\n",
    "                print(f\"Training with Seq: {seq_len}, Hidden: {hidden_size}, Layers: {num_layer}, LR: {lr}\")\n",
    "                rmse, mae = all_in_one(combined_features, target_scaled, seq_len, hidden_size, num_layer, lr)\n",
    "                results.append((seq_len, hidden_size, num_layer, lr, rmse, mae))\n",
    "                print(f\"RMSE: {rmse}, MAE: {mae}\")\n",
    "                print(\"-\" * 50)\n",
    "\n",
    "# Convert results to DataFrame for better visualization\n",
    "results_df = pd.DataFrame(results, columns=['Sequence Length', 'Hidden Size', 'Num Layers', 'Learning Rate', 'RMSE', 'MAE'])\n",
    "results_df.to_csv('hyperparameter_tuning_results.csv', index=False)\n"
   ]
  },
  {
   "cell_type": "code",
   "execution_count": null,
   "id": "cd975393",
   "metadata": {},
   "outputs": [],
   "source": []
  }
 ],
 "metadata": {
  "kernelspec": {
   "display_name": "gp",
   "language": "python",
   "name": "python3"
  },
  "language_info": {
   "codemirror_mode": {
    "name": "ipython",
    "version": 3
   },
   "file_extension": ".py",
   "mimetype": "text/x-python",
   "name": "python",
   "nbconvert_exporter": "python",
   "pygments_lexer": "ipython3",
   "version": "3.12.9"
  }
 },
 "nbformat": 4,
 "nbformat_minor": 5
}

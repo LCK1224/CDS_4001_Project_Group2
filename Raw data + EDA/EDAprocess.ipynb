{
 "cells": [
  {
   "cell_type": "code",
   "execution_count": null,
   "metadata": {},
   "outputs": [],
   "source": [
    "import numpy as np\n",
    "import pandas as pd\n",
    "import matplotlib.pyplot as plt\n",
    "import seaborn as sns\n",
    "from sklearn.ensemble import RandomForestRegressor\n",
    "from sklearn.preprocessing import LabelEncoder"
   ]
  },
  {
   "cell_type": "markdown",
   "metadata": {},
   "source": [
    "# Raw dataset combination"
   ]
  },
  {
   "cell_type": "markdown",
   "metadata": {},
   "source": [
    "## Mean temperature feature\n",
    "\n",
    "There are 12 datasets retrieved on the HKO website for us to predict the mean temperature tomorrow. The data we choose as our features are daily mean pressure, daily rainfall, daily relative humidity, daily mean cloud amount, daily evaporation, daily global solar radiation, daily max UV, daily mean UV, daily prevailing wind direction, daily wind speed, and daily total sunlight. We used a for-loop to read all datasets."
   ]
  },
  {
   "cell_type": "code",
   "execution_count": null,
   "metadata": {},
   "outputs": [],
   "source": [
    "rdf_list = [\n",
    "    'CLMeanTEMPerature_HKO_.csv',\n",
    "    'daily_HKO_MSLP_meanpressure_ALL.csv',\n",
    "    'daily_HKO_RainFall_ALL.csv',\n",
    "    'daily_HKO_RelativeHumidity_ALL.csv',\n",
    "    'daily_HKO_meanCLOUD_ALL.csv',\n",
    "    'daily_KP_EVAP_ALL.csv',\n",
    "    'daily_KP_GlobalSolarRadiation_ALL.csv',\n",
    "    'daily_KP_MAXUV_ALL.csv',\n",
    "    'daily_KP_PrevailingWindDIRection_ALL.csv',\n",
    "    'daily_KP_WindSPeeD_ALL.csv',\n",
    "    'daily_KP_meanUV_ALL.csv',\n",
    "    'daily_KP_totalSUNlight_ALL.csv',\n",
    "]\n",
    "\n",
    "def read_csv_files(rdf_list, skiprows=2):\n",
    "    dataframesrdf = {}\n",
    "    for i, file_name in enumerate(rdf_list, 1):\n",
    "        df_name = f'rdf{i}'\n",
    "        dataframesrdf[df_name] = pd.read_csv(file_name, skiprows=skiprows)\n",
    "        print(f\"Successfully loaded {file_name} into {df_name}\")\n",
    "    return dataframesrdf\n",
    "\n",
    "dataframesrdf = read_csv_files(rdf_list)"
   ]
  },
  {
   "cell_type": "code",
   "execution_count": null,
   "metadata": {},
   "outputs": [],
   "source": [
    "for i in range(1, len(dataframesrdf) + 1):\n",
    "    globals()[f'rdf{i}'] = dataframesrdf[f'rdf{i}']"
   ]
  },
  {
   "cell_type": "markdown",
   "metadata": {},
   "source": [
    "Since each dataset contains a “數值/Value” column about their own data, we then changed all the “數值/Value” to their corresponding data name."
   ]
  },
  {
   "cell_type": "code",
   "execution_count": null,
   "metadata": {},
   "outputs": [],
   "source": [
    "value_name = {\n",
    "    'rdf1': 'Mean Temperature',\n",
    "    'rdf2': 'Mean Pressure',\n",
    "    'rdf3': 'Rainfall',\n",
    "    'rdf4': 'Relative Humidity',\n",
    "    'rdf5': 'Mean Cloud',\n",
    "    'rdf6': 'Evaporation',\n",
    "    'rdf7': 'Global Solar Radiation',\n",
    "    'rdf8': 'Max UV',\n",
    "    'rdf9': 'Prevailing Wind Direction',\n",
    "    'rdf10': 'Wind Speed',\n",
    "    'rdf11': 'Mean UV',\n",
    "    'rdf12': 'Total Sunlight',\n",
    "}\n",
    "\n",
    "# Loop through the dictionary to rename columns\n",
    "for df_name, new_name in value_name.items():\n",
    "    globals()[df_name].rename(columns={'數值/Value': new_name}, inplace=True)"
   ]
  },
  {
   "cell_type": "markdown",
   "metadata": {},
   "source": [
    "## Merged raining feature data"
   ]
  },
  {
   "cell_type": "markdown",
   "metadata": {},
   "source": [
    "After getting the correct column names, we merged all HKO data into one large dataset on the “Year”, “Month”, “Day” columns. The large dataset HKO we created has 4 uninformative rows. We then use the iloc function to remove them."
   ]
  },
  {
   "cell_type": "code",
   "execution_count": null,
   "metadata": {},
   "outputs": [],
   "source": [
    "hko = dataframesrdf['rdf1'][['年/Year', '月/Month', '日/Day', 'Mean Temperature']].copy()\n",
    "for i in range(2, len(dataframesrdf) + 1):\n",
    "    df = dataframesrdf[f'rdf{i}']\n",
    "    value_col = df.columns[~df.columns.isin(['年/Year', '月/Month', '日/Day', 'Date'])][0]\n",
    "    hko = hko.merge(\n",
    "        df[['年/Year', '月/Month', '日/Day', value_col]],\n",
    "        on=['年/Year', '月/Month', '日/Day'],\n",
    "        how='outer'\n",
    "    )\n",
    "hko = hko.sort_values(['年/Year', '月/Month', '日/Day']).reset_index(drop=True)"
   ]
  },
  {
   "cell_type": "code",
   "execution_count": null,
   "metadata": {},
   "outputs": [],
   "source": [
    "hko"
   ]
  },
  {
   "cell_type": "code",
   "execution_count": null,
   "metadata": {},
   "outputs": [],
   "source": [
    "hko = hko.iloc[2:-2]\n",
    "hko"
   ]
  },
  {
   "cell_type": "markdown",
   "metadata": {},
   "source": [
    "## Air pollutant"
   ]
  },
  {
   "cell_type": "markdown",
   "metadata": {},
   "source": [
    "There are 4 datasets retrieved on the Environmental Protection Department website. All of them have the same features. The only difference is the time they covered. "
   ]
  },
  {
   "cell_type": "code",
   "execution_count": null,
   "metadata": {},
   "outputs": [],
   "source": [
    "ap_list = [\n",
    "    'air_daily_mongkok1990_1994.csv',\n",
    "    'air_daily_mongkok1994_2004.csv',\n",
    "    'air_daily_mongkok2004_2014.csv',\n",
    "    'air_daily_mongkok2014_2024.csv',\n",
    "]\n",
    "\n",
    "def read_csv_files(ap_list, skiprows=11):\n",
    "    dataframesap = {}\n",
    "    for i, file_name in enumerate(ap_list, 1):\n",
    "        df_name = f'ap{i}'   \n",
    "        dataframesap[df_name] = pd.read_csv(file_name, skiprows=skiprows)\n",
    "        print(f\"Successfully loaded {file_name} into {df_name}\")\n",
    "    return dataframesap\n",
    "\n",
    "dataframesap = read_csv_files(ap_list)\n",
    "\n",
    "for i in range(1, len(dataframesap) + 1):\n",
    "    globals()[f'ap{i}'] = dataframesap[f'ap{i}']"
   ]
  },
  {
   "cell_type": "markdown",
   "metadata": {},
   "source": [
    "## Merged Air pollutant"
   ]
  },
  {
   "cell_type": "markdown",
   "metadata": {},
   "source": [
    "Therefore, after reading all 4 datasets, we use the concat function to combine them, while assuring the order of the date. The large dataset ap is formed."
   ]
  },
  {
   "cell_type": "code",
   "execution_count": null,
   "metadata": {},
   "outputs": [],
   "source": [
    "ap = pd.concat([ap1, ap2, ap3, ap4], ignore_index=True)\n",
    "ap.reset_index(drop=True, inplace=True)\n",
    "ap"
   ]
  },
  {
   "cell_type": "markdown",
   "metadata": {},
   "source": [
    "## Typhoon"
   ]
  },
  {
   "cell_type": "markdown",
   "metadata": {},
   "source": [
    "There are 4 datasets retrieved on the Tropical Cyclone Warning Signals website of HKO. The features we are interested in are “Intensity”, “Signal”, “Start Date”, and “Duration (hr min)”. The dataset is named as ty. The shape of ty is 547 times 8. The data type of its columns is mostly string."
   ]
  },
  {
   "cell_type": "code",
   "execution_count": null,
   "metadata": {},
   "outputs": [],
   "source": [
    "ty = pd.read_csv('typhoon.csv', header= 0)\n",
    "ty"
   ]
  },
  {
   "cell_type": "markdown",
   "metadata": {},
   "source": [
    "# Merging Dataset"
   ]
  },
  {
   "cell_type": "markdown",
   "metadata": {},
   "source": [
    "## Mean Temperature Feature"
   ]
  },
  {
   "cell_type": "code",
   "execution_count": null,
   "metadata": {},
   "outputs": [],
   "source": [
    "hko = hko.rename(columns={'年/Year': 'Year', '月/Month': 'Month', '日/Day': 'Day'})\n",
    "hko['Month'] = hko['Month'].astype(int)\n",
    "hko['Month'] = hko['Month'].apply(lambda x: f'0{x}' if 0 < x < 10 else x)\n",
    "hko['Day'] = hko['Day'].astype(int)\n",
    "hko['Day'] = hko['Day'].apply(lambda x: f'0{x}' if 0 < x < 10 else x)\n",
    "hko['Date'] = hko[['Day','Month','Year']].astype(str).agg('-'.join, axis=1)\n",
    "hko['Dateymd'] = hko[['Year', 'Month', 'Day']].astype(str).agg('-'.join, axis=1)\n",
    "hko = hko.sort_values(by='Dateymd', ascending=True).reset_index(drop=True)\n",
    "print(hko.shape)"
   ]
  },
  {
   "cell_type": "code",
   "execution_count": null,
   "metadata": {},
   "outputs": [],
   "source": [
    "hko"
   ]
  },
  {
   "cell_type": "markdown",
   "metadata": {},
   "source": [
    "## Air Pollutant"
   ]
  },
  {
   "cell_type": "code",
   "execution_count": null,
   "metadata": {},
   "outputs": [],
   "source": [
    "ap.rename(columns={'DATE': 'Date'}, inplace=True)\n",
    "print(ap.shape)"
   ]
  },
  {
   "cell_type": "code",
   "execution_count": null,
   "metadata": {},
   "outputs": [],
   "source": [
    "ap"
   ]
  },
  {
   "cell_type": "markdown",
   "metadata": {},
   "source": [
    "## Typhoon"
   ]
  },
  {
   "cell_type": "code",
   "execution_count": null,
   "metadata": {},
   "outputs": [],
   "source": [
    "def change_abbrev(x):\n",
    "    x = x.lower()\n",
    "    month_abbrev_to_num = {\n",
    "        \"jan\": 1,\n",
    "        \"feb\": 2,\n",
    "        \"mar\": 3,\n",
    "        \"apr\": 4,\n",
    "        \"may\": 5,\n",
    "        \"jun\": 6,\n",
    "        \"jul\": 7,\n",
    "        \"aug\": 8,\n",
    "        \"sep\": 9,\n",
    "        \"oct\": 10,\n",
    "        \"nov\": 11,\n",
    "        \"dec\": 12\n",
    "    }\n",
    "    return month_abbrev_to_num.get(x)\n",
    "\n",
    "\n",
    "def change_year(x):\n",
    "    x = str(x)\n",
    "    if x.startswith('9'):\n",
    "        return int('19'+x)\n",
    "    return int('20'+x)\n",
    "\n",
    "\n",
    "def change_intensity(x):\n",
    "    intensity_to_num = {\n",
    "        \"Tropical Depression\": 1,\n",
    "        \"Tropical Depression/Tropical Depression\": 1,\n",
    "        \"Tropical Storm\": 2,\n",
    "        \"Severe Tropical Storm\": 3,\n",
    "        \"Typhoon\": 4,\n",
    "        \"Typhoon (Severe Typhoon)\": 5,\n",
    "        \"Severe Typhoon\": 5,\n",
    "        \"Typhoon (Super Typhoon)\": 6,\n",
    "        \"Super Typhoon\": 6\n",
    "    }\n",
    "    return intensity_to_num.get(x)\n",
    "\n",
    "\n",
    "def change_signal(x):\n",
    "    x = str(x)\n",
    "    signal_to_num = {\n",
    "        \"1\": 1,\n",
    "        \"3\": 2,\n",
    "        \"8 NE\": 3,\n",
    "        \"8 SE\": 3,\n",
    "        \"8 NW\": 3,\n",
    "        \"8 SW\": 3,\n",
    "        \"9\": 4,\n",
    "        \"10\": 5\n",
    "\n",
    "    }\n",
    "    return signal_to_num.get(x)\n",
    "\n",
    "\n",
    "def change_dur(x):\n",
    "    hr = int(x.split(\" \")[0])\n",
    "    mins = int(x.split(\" \")[1])\n",
    "    return hr * 60 + mins"
   ]
  },
  {
   "cell_type": "code",
   "execution_count": null,
   "metadata": {},
   "outputs": [],
   "source": [
    "ty[\"Year\"] = ty[\"Start Date\"].map(lambda x: x.split('-')[2])\n",
    "ty[\"Month\"] = ty[\"Start Date\"].map(lambda x: x.split('-')[1])\n",
    "ty[\"Day\"] = ty[\"Start Date\"].map(lambda x: x.split('-')[0])\n",
    "\n",
    "ty[\"Month\"] = ty[\"Month\"].apply(change_abbrev)\n",
    "ty[\"Year\"] = ty[\"Year\"].apply(change_year)\n",
    "ty['Intensity'] = ty['Intensity'].apply(change_intensity)\n",
    "ty['Signal'] = ty['Signal'].apply(change_signal)\n",
    "ty['Duration(hr min)'] = ty['Duration(hr min)'].apply(change_dur)\n",
    "\n",
    "# print(df.Signal.unique())\n",
    "ty = ty[['Year', 'Month', 'Day', 'Intensity', 'Signal', \"Duration(hr min)\"]]\n",
    "ty[['Year', 'Month', 'Day']] = ty[['Year', 'Month', 'Day']].astype('int')\n",
    "ty = ty.groupby(['Year', 'Month', 'Day']).agg({'Intensity': 'max',\n",
    "                                                          'Signal': 'max',\n",
    "                                                          'Duration(hr min)': 'sum',}).reset_index()\n",
    "\n"
   ]
  },
  {
   "cell_type": "code",
   "execution_count": null,
   "metadata": {},
   "outputs": [],
   "source": [
    "ty"
   ]
  },
  {
   "cell_type": "markdown",
   "metadata": {},
   "source": [
    "# Merged unclean dataset"
   ]
  },
  {
   "cell_type": "code",
   "execution_count": null,
   "metadata": {},
   "outputs": [],
   "source": [
    "rawdf = pd.merge(hko, ap, on='Date', how='right')\n",
    "rawdf[['Year', 'Month', 'Day']] = rawdf[['Year', 'Month', 'Day']].astype('int')\n",
    "unclean_output = pd.merge(rawdf, ty, on=['Year', 'Month', 'Day'], how='left')\n",
    "unclean_output.drop(['Date', 'STATION'], axis=1, inplace=True)\n",
    "unclean_output['Tmr Mean Temperature'] = unclean_output['Mean Temperature'].shift(-1)"
   ]
  },
  {
   "cell_type": "code",
   "execution_count": null,
   "metadata": {},
   "outputs": [],
   "source": [
    "unclean_output"
   ]
  },
  {
   "cell_type": "markdown",
   "metadata": {},
   "source": [
    "# Data describtion of unclean dataset"
   ]
  },
  {
   "cell_type": "markdown",
   "metadata": {},
   "source": [
    "## Column Name Explaination"
   ]
  },
  {
   "cell_type": "markdown",
   "metadata": {},
   "source": [
    "Mean Temperature : Data on daily mean temperatures (degree C) \n",
    "\n",
    "Mean Cloud : Data on daily mean amount of cloud (%) \n",
    "\n",
    "Mean Pressure : Data on daily mean pressure (hPa) \n",
    "\n",
    "Rainfall : Data on daily total rainfall (mm) \n",
    "\n",
    "Relative Humidity : Data on daily mean relative humidity (%) \n",
    "\n",
    "Evaporation : Data on daily total evaporation (mm) \n",
    "\n",
    "Global Solar Radiation : Data on daily global solar radiation (MJ/m^2) \n",
    "\n",
    "Max UV : Data on daily maximum UV indices (UV index) \n",
    "\n",
    "Mean UV : Data on daily mean UV indices (UV index) \n",
    "\n",
    "Prevailing Wind Direction : Data on daily prevailing wind direction (degree) \n",
    "\n",
    "Total Sunlight : Data on daily total bright sunshine (hours) \n",
    "\n",
    "Wind Speed : Data on daily mean wind speed (km/h) \n",
    "\n",
    "SO2 : Daily mean of Sulpher Dioxide measured in Mong Kok station (μg/m3) \n",
    "\n",
    "NOX : Daily mean of Nitrogen Oxides measured in Mong Kok station (μg/m3) \n",
    "\n",
    "NO2 : Daily mean of Nitrogen Dioxide measured in Mong Kok station (μg/m3) \n",
    "\n",
    "CO : Daily mean of Carbon Monoxide measured in Mong Kok station (10 μg/m3) \n",
    "\n",
    "RSP : Daily mean of Respirable Suspended Particulates measured in Mong Kok station (μg/m3) \n",
    "\n",
    "O3 : Daily mean of Ozone measured in Mong Kok station (μg/m3) \n",
    "\n",
    "FSP : Daily mean of Fine Suspended Particulates measured in Mong Kok station (μg/m3) \n"
   ]
  },
  {
   "cell_type": "code",
   "execution_count": null,
   "metadata": {},
   "outputs": [],
   "source": [
    "unclean_output.columns"
   ]
  },
  {
   "cell_type": "code",
   "execution_count": null,
   "metadata": {},
   "outputs": [],
   "source": [
    "unclean_output.shape"
   ]
  },
  {
   "cell_type": "code",
   "execution_count": null,
   "metadata": {},
   "outputs": [],
   "source": [
    "patterns = [('***', 'pat1'), ('Trace', 'pat2'), ('N.A.', 'pat3')]\n",
    "wrongdata = {}\n",
    "\n",
    "counts = {i: {} for _, i in patterns}\n",
    "for pattern, i in patterns:\n",
    "    wrongdata[i] = unclean_output.where(unclean_output == pattern)\n",
    "    wrongdata[i] = wrongdata[i].dropna(how='all').reset_index(drop=True)\n",
    "    counts[i] = wrongdata[i].count().to_dict()\n",
    "\n",
    "wrongcount = pd.DataFrame(counts)\n",
    "wrongcount = wrongcount.rename_axis('Feature').reset_index()\n",
    "print(wrongcount.to_string(index=False))"
   ]
  },
  {
   "cell_type": "code",
   "execution_count": null,
   "metadata": {},
   "outputs": [],
   "source": [
    "finaldfuncleannd = unclean_output.drop(['Year', 'Month', 'Day', 'Dateymd'], axis=1).copy()\n",
    "finaldfuncleannd = finaldfuncleannd.replace('***', np.nan)\n",
    "finaldfuncleannd = finaldfuncleannd.replace('Trace', np.nan)\n",
    "finaldfuncleannd = finaldfuncleannd.replace('N.A.', np.nan)\n",
    "finaldfuncleannd = finaldfuncleannd.astype(float)"
   ]
  },
  {
   "cell_type": "code",
   "execution_count": null,
   "metadata": {},
   "outputs": [],
   "source": [
    "finaldfuncleannd[['Intensity', \n",
    "                  'Signal', \n",
    "                  'Duration(hr min)']] = finaldfuncleannd[['Intensity','Signal', \n",
    "                                                           'Duration(hr min)']].fillna(0)\n"
   ]
  },
  {
   "cell_type": "code",
   "execution_count": null,
   "metadata": {},
   "outputs": [],
   "source": [
    "finaldfuncleannd.describe().T"
   ]
  },
  {
   "cell_type": "markdown",
   "metadata": {},
   "source": [
    "## Correlation matrix"
   ]
  },
  {
   "cell_type": "code",
   "execution_count": null,
   "metadata": {},
   "outputs": [],
   "source": [
    "finaldfuncleanndcorr = finaldfuncleannd.corr()\n",
    "plt.figure(figsize=(15, 15))\n",
    "sns.heatmap(finaldfuncleanndcorr, annot=True, fmt='.2f', cmap='coolwarm', square=True, cbar_kws={\"shrink\": .8})\n",
    "plt.title('Correlation Matrix of Features')\n",
    "plt.show()"
   ]
  },
  {
   "cell_type": "markdown",
   "metadata": {},
   "source": [
    "## Unclean Dataset Features Importance"
   ]
  },
  {
   "cell_type": "markdown",
   "metadata": {},
   "source": [
    "### rainfall check"
   ]
  },
  {
   "cell_type": "code",
   "execution_count": null,
   "metadata": {},
   "outputs": [],
   "source": [
    "data = finaldfuncleannd.copy()\n",
    "data['tmr rainfall'] = data['Rainfall'].shift(-1)\n",
    "if 'Prevailing Wind Direction' in data.columns:\n",
    "    le = LabelEncoder()\n",
    "    data['Prevailing Wind Direction'] = le.fit_transform(data['Prevailing Wind Direction'].astype(str))\n",
    "\n",
    "data['tmr rainfall'] = data['tmr rainfall'].fillna(data['tmr rainfall'].mean()) \n",
    "\n",
    "target_column = 'tmr rainfall'\n",
    "X = data.drop(columns=[target_column, 'Rainfall'], axis=1)\n",
    "y = data[target_column]\n",
    "\n",
    "rf = RandomForestRegressor(n_estimators=100, random_state=1234)\n",
    "rf.fit(X, y)\n",
    "\n",
    "feature_importance = rf.feature_importances_\n",
    "feature_names = X.columns\n",
    "\n",
    "importance_df2 = pd.DataFrame({\n",
    "    'Feature': feature_names,\n",
    "    'Importance': feature_importance\n",
    "}).sort_values(by='Importance', ascending=False)\n",
    "\n",
    "print(\"Feature Importance:\")\n",
    "print(importance_df2)\n",
    "\n",
    "plt.figure(figsize=(10, 6))\n",
    "plt.barh(importance_df2['Feature'], importance_df2['Importance'], color='skyblue')\n",
    "plt.xlabel('Importance')\n",
    "plt.title('Feature Importance for Predicting Rainfall')\n",
    "plt.gca().invert_yaxis()\n",
    "plt.tight_layout()\n",
    "plt.show()"
   ]
  },
  {
   "cell_type": "markdown",
   "metadata": {},
   "source": [
    "### mean temperature check"
   ]
  },
  {
   "cell_type": "code",
   "execution_count": null,
   "metadata": {},
   "outputs": [],
   "source": [
    "data = finaldfuncleannd.copy()\n",
    "if 'Prevailing Wind Direction' in data.columns:\n",
    "    le = LabelEncoder()\n",
    "    data['Prevailing Wind Direction'] = le.fit_transform(data['Prevailing Wind Direction'].astype(str))\n",
    "\n",
    "data['Tmr Mean Temperature'] = data['Tmr Mean Temperature'].fillna(data['Tmr Mean Temperature'].mean())\n",
    "\n",
    "target_column = 'Tmr Mean Temperature'\n",
    "X = data.drop(columns=[target_column, 'Mean Temperature'], axis=1)\n",
    "y = data[target_column]\n",
    "\n",
    "rf = RandomForestRegressor(n_estimators=100, random_state=1234)\n",
    "rf.fit(X, y)\n",
    "\n",
    "feature_importance = rf.feature_importances_\n",
    "feature_names = X.columns\n",
    "\n",
    "importance_df = pd.DataFrame({\n",
    "    'Feature': feature_names,\n",
    "    'Importance': feature_importance\n",
    "}).sort_values(by='Importance', ascending=False)\n",
    "\n",
    "print(\"Feature Importance:\")\n",
    "print(importance_df)\n",
    "\n",
    "plt.figure(figsize=(10, 6))\n",
    "plt.barh(importance_df['Feature'], importance_df['Importance'], color='skyblue')\n",
    "plt.xlabel('Importance')\n",
    "plt.title('Feature Importance for Predicting Mean Temperature')\n",
    "plt.gca().invert_yaxis()\n",
    "plt.tight_layout()\n",
    "plt.show()"
   ]
  },
  {
   "cell_type": "code",
   "execution_count": null,
   "metadata": {},
   "outputs": [],
   "source": [
    "mergedimportance = pd.merge(importance_df, importance_df2, on='Feature', how='outer')\n",
    "mergedimportance.sort_values(by='Importance_x', ascending=False, inplace=True)\n",
    "mergedimportance.reset_index(drop=True)\n",
    "mergedimportance.rename(columns={'Importance_x': 'Mean Temperature Importance',\n",
    "                                  'Importance_y': 'Rainfall Importance'}, inplace=True)\n",
    "mergedimportance"
   ]
  },
  {
   "cell_type": "markdown",
   "metadata": {},
   "source": [
    "## Histogram"
   ]
  },
  {
   "cell_type": "code",
   "execution_count": null,
   "metadata": {},
   "outputs": [],
   "source": [
    "plt.title('Signal Distribution')\n",
    "sns.histplot(finaldfuncleannd, x='Signal', bins=[-0.5, 0.5, 1.5, 2.5, 3.5, 4.5, 5.5])"
   ]
  },
  {
   "cell_type": "code",
   "execution_count": null,
   "metadata": {},
   "outputs": [],
   "source": [
    "plt.title('Intensity Distribution')\n",
    "sns.histplot(finaldfuncleannd, x='Intensity', bins=[-0.5, 0.5, 1.5, 2.5, 3.5, 4.5, 5.5])"
   ]
  },
  {
   "cell_type": "code",
   "execution_count": null,
   "metadata": {},
   "outputs": [],
   "source": [
    "plt.title('Rainfall Distribution')\n",
    "sns.histplot(finaldfuncleannd, x='Rainfall', bins=range(0, 400, 10), kde=True)"
   ]
  },
  {
   "cell_type": "code",
   "execution_count": null,
   "metadata": {},
   "outputs": [],
   "source": [
    "plt.title('Temperature Distribution')\n",
    "sns.histplot(finaldfuncleannd, x='Mean Temperature', bins=range(0, 40, 5), kde=True)"
   ]
  },
  {
   "cell_type": "markdown",
   "metadata": {},
   "source": [
    "## Pie chart"
   ]
  },
  {
   "cell_type": "code",
   "execution_count": null,
   "metadata": {},
   "outputs": [],
   "source": [
    "plt.figure(figsize=(15, 6))\n",
    "plt.title('Prevailing Wind Direction Distribution')\n",
    "plt.pie(finaldfuncleannd['Prevailing Wind Direction'].value_counts(),\n",
    "        labels=finaldfuncleannd['Prevailing Wind Direction'].value_counts().index,\n",
    "        autopct='%1.1f%%',\n",
    "        startangle=140)\n",
    "plt.axis('equal')\n",
    "plt.show()"
   ]
  },
  {
   "cell_type": "markdown",
   "metadata": {},
   "source": [
    "## Line graph"
   ]
  },
  {
   "cell_type": "code",
   "execution_count": null,
   "metadata": {},
   "outputs": [],
   "source": [
    "for column in finaldfuncleannd.columns:\n",
    "    plt.figure(figsize=(50, 25))\n",
    "    plt.plot(unclean_output['Dateymd'], finaldfuncleannd[column], marker='o', linestyle='-', markersize=2)\n",
    "    plt.title(f'Line Graph of {column} from 1991 to 2024', fontsize=40)\n",
    "    plt.xlabel('Date', fontsize=25)\n",
    "    plt.ylabel(column, fontsize=25)\n",
    "    plt.xticks(rotation=90, fontsize=1)\n",
    "    plt.grid()\n",
    "    plt.tight_layout()\n",
    "    plt.show()"
   ]
  },
  {
   "cell_type": "markdown",
   "metadata": {},
   "source": [
    "## Box plot"
   ]
  },
  {
   "cell_type": "code",
   "execution_count": null,
   "metadata": {},
   "outputs": [],
   "source": [
    "fig, axes = plt.subplots(12, 2, figsize=(10, 40))\n",
    "axes = axes.flatten()\n",
    "\n",
    "for i, col in enumerate(finaldfuncleannd.columns):\n",
    "    axes[i].boxplot(finaldfuncleannd[col].dropna().astype(float))\n",
    "    axes[i].set_title(col, fontsize=10)\n",
    "    axes[i].set_ylabel('Value')\n",
    "    axes[i].tick_params(axis='x', labelbottom=False)\n",
    "\n",
    "plt.tight_layout()\n",
    "\n",
    "plt.savefig('box_plots_numeric_columns.png', dpi=300, bbox_inches='tight')\n",
    "print(\"Box plots saved as 'box_plots_numeric_columns.png'\")\n",
    "\n",
    "plt.show()"
   ]
  },
  {
   "cell_type": "markdown",
   "metadata": {},
   "source": [
    "## Scatter plot"
   ]
  },
  {
   "cell_type": "code",
   "execution_count": null,
   "metadata": {},
   "outputs": [],
   "source": [
    "fig, axes = plt.subplots(6, 4, figsize=(10, 10))\n",
    "axes = axes.flatten()\n",
    "\n",
    "for i, col in enumerate(finaldfuncleannd.columns):\n",
    "    axes[i].scatter(finaldfuncleannd[col], finaldfuncleannd['Tmr Mean Temperature'], alpha=0.5)\n",
    "    axes[i].set_title(f'Tmr Mean Temperature vs {col}', fontsize=5)\n",
    "    axes[i].set_xlabel(col, fontsize=5)\n",
    "    axes[i].set_ylabel('Tmr Mean Temperature', fontsize=5)\n",
    "    axes[i].grid(True)\n",
    "\n",
    "plt.tight_layout()\n",
    "\n",
    "plt.savefig('scatter_plots_rainfall.png', dpi=300, bbox_inches='tight')\n",
    "print(\"Scatter plots saved as 'scatter_plots_rainfall.png'\")\n",
    "\n",
    "plt.show()"
   ]
  },
  {
   "cell_type": "markdown",
   "metadata": {},
   "source": [
    "# Final Dataframe"
   ]
  },
  {
   "cell_type": "code",
   "execution_count": null,
   "metadata": {},
   "outputs": [],
   "source": [
    "clean_output = unclean_output.copy().drop('Dateymd', axis=1)\n",
    "clean_output = clean_output.replace(['***', 'N.A.'], np.nan)\n",
    "clean_output = clean_output.replace('Trace', 0.05)\n",
    "clean_output = clean_output.astype(float)\n",
    "#clean_output.to_csv('clean_output.csv', index=False)"
   ]
  },
  {
   "cell_type": "markdown",
   "metadata": {},
   "source": [
    "## Filling Missing Value"
   ]
  },
  {
   "cell_type": "markdown",
   "metadata": {},
   "source": [
    "Refer to Data Cleaning part"
   ]
  },
  {
   "cell_type": "code",
   "execution_count": null,
   "metadata": {},
   "outputs": [],
   "source": [
    "final_df = pd.read_csv('cleaned_dataset.csv', header=0)"
   ]
  },
  {
   "cell_type": "code",
   "execution_count": null,
   "metadata": {},
   "outputs": [],
   "source": [
    "threshold = 0.01\n",
    "unimportantdf = importance_df[importance_df['Importance']<threshold].copy()\n",
    "feature_to_drop = unimportantdf['Feature']\n",
    "dfuncleannddropped = finaldfuncleannd\n",
    "for i in feature_to_drop:\n",
    "    dfuncleannddropped = dfuncleannddropped.drop(i, axis=1)"
   ]
  },
  {
   "cell_type": "code",
   "execution_count": null,
   "metadata": {},
   "outputs": [],
   "source": [
    "dfuncleannddropped.columns"
   ]
  },
  {
   "cell_type": "code",
   "execution_count": null,
   "metadata": {},
   "outputs": [],
   "source": [
    "pat = (final_df == '***')|(final_df == 'Trace')|(final_df == 'N.A.')\n",
    "wrongdata3 = final_df.where(pat)\n",
    "wrongdata3 = wrongdata3.dropna(how='all').reset_index(drop=True)\n",
    "wrongdata3.count()"
   ]
  },
  {
   "cell_type": "code",
   "execution_count": null,
   "metadata": {},
   "outputs": [],
   "source": [
    "final_dfwd = final_df.copy()\n",
    "final_dfwd['Date'] = unclean_output['Dateymd']\n",
    "final_dfwd"
   ]
  },
  {
   "cell_type": "markdown",
   "metadata": {},
   "source": [
    "# Data Description"
   ]
  },
  {
   "cell_type": "code",
   "execution_count": null,
   "metadata": {},
   "outputs": [],
   "source": [
    "print(final_df.shape)\n",
    "final_df.describe()"
   ]
  },
  {
   "attachments": {
    "image.png": {
     "image/png": "[encoded data removed]"
    }
   },
   "cell_type": "markdown",
   "metadata": {},
   "source": [
    "![image.png](attachment:image.png)"
   ]
  },
  {
   "cell_type": "markdown",
   "metadata": {},
   "source": [
    "## Correlation matrix"
   ]
  },
  {
   "cell_type": "code",
   "execution_count": null,
   "metadata": {},
   "outputs": [],
   "source": [
    "finaldfnd = final_df.copy()\n",
    "finaldfndcorr = finaldfnd.corr()\n",
    "plt.figure(figsize=(15, 15))\n",
    "sns.heatmap(finaldfndcorr, annot=True, fmt='.2f', cmap='coolwarm', square=True, cbar_kws={\"shrink\": .8})\n",
    "plt.title('Correlation Matrix of Features')\n",
    "plt.show()"
   ]
  },
  {
   "cell_type": "markdown",
   "metadata": {},
   "source": [
    "## Histogram"
   ]
  },
  {
   "cell_type": "code",
   "execution_count": null,
   "metadata": {},
   "outputs": [],
   "source": [
    "sns.histplot(final_df, x='Signal', bins=5)"
   ]
  },
  {
   "cell_type": "code",
   "execution_count": null,
   "metadata": {},
   "outputs": [],
   "source": [
    "sns.histplot(final_df, x='Intensity', bins=5)"
   ]
  },
  {
   "cell_type": "markdown",
   "metadata": {},
   "source": [
    "## line graph"
   ]
  },
  {
   "cell_type": "code",
   "execution_count": null,
   "metadata": {},
   "outputs": [],
   "source": [
    "for column in final_df.columns:\n",
    "    plt.figure(figsize=(50, 25))\n",
    "    plt.plot(final_dfwd['Date'], final_df[column], marker='o', linestyle='-', markersize=2)\n",
    "    plt.title(f'Line Graph of {column} from 1991 to 2024 of final dataset', fontsize=40)\n",
    "    plt.xlabel('Date', fontsize=25)\n",
    "    plt.ylabel(column, fontsize=25)\n",
    "    plt.xticks(rotation=90, fontsize=1)\n",
    "    plt.grid()\n",
    "    plt.tight_layout()\n",
    "    plt.show()"
   ]
  },
  {
   "cell_type": "markdown",
   "metadata": {},
   "source": [
    "## box plot"
   ]
  },
  {
   "cell_type": "code",
   "execution_count": null,
   "metadata": {},
   "outputs": [],
   "source": [
    "fig, axes = plt.subplots(13, 2, figsize=(10, 40))\n",
    "axes = axes.flatten()\n",
    "\n",
    "for i, col in enumerate(final_df.columns):\n",
    "    axes[i].boxplot(final_df[col].dropna())\n",
    "    axes[i].set_title(col, fontsize=10)\n",
    "    axes[i].set_ylabel('Value')\n",
    "    axes[i].tick_params(axis='x', labelbottom=False)\n",
    "\n",
    "plt.tight_layout()\n",
    "\n",
    "#plt.savefig('box_plots_numeric_columns.png', dpi=300, bbox_inches='tight')\n",
    "print(\"Box plots saved as 'box_plots_numeric_columns.png'\")\n",
    "\n",
    "plt.show()"
   ]
  },
  {
   "cell_type": "markdown",
   "metadata": {},
   "source": [
    "## Scatter plot"
   ]
  },
  {
   "cell_type": "code",
   "execution_count": null,
   "metadata": {},
   "outputs": [],
   "source": [
    "fig, axes = plt.subplots(13, 2, figsize=(10, 40))\n",
    "axes = axes.flatten()\n",
    "\n",
    "for i, col in enumerate(final_df.columns):\n",
    "    axes[i].scatter(final_df[col], final_df['tmr_temp'], alpha=0.5)\n",
    "    axes[i].set_title(f'Tmr Mean Temperature vs {col}')\n",
    "    axes[i].set_xlabel(col)\n",
    "    axes[i].set_ylabel('Tmr Mean Temperature')\n",
    "    axes[i].grid(True)\n",
    "\n",
    "plt.tight_layout()\n",
    "\n",
    "#plt.savefig('scatter_plots_rainfall.png', dpi=300, bbox_inches='tight')\n",
    "print(\"Scatter plots saved as 'scatter_plots_rainfall.png'\")\n",
    "\n",
    "plt.show()"
   ]
  }
 ],
 "metadata": {
  "kernelspec": {
   "display_name": "myenv",
   "language": "python",
   "name": "python3"
  },
  "language_info": {
   "codemirror_mode": {
    "name": "ipython",
    "version": 3
   },
   "file_extension": ".py",
   "mimetype": "text/x-python",
   "name": "python",
   "nbconvert_exporter": "python",
   "pygments_lexer": "ipython3",
   "version": "3.11.9"
  }
 },
 "nbformat": 4,
 "nbformat_minor": 2
}
